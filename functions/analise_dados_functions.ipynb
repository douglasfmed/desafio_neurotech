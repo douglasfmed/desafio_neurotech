{
 "cells": [
  {
   "cell_type": "code",
   "execution_count": 0,
   "metadata": {
    "application/vnd.databricks.v1+cell": {
     "cellMetadata": {
      "byteLimit": 2048000,
      "rowLimit": 10000
     },
     "inputWidgets": {},
     "nuid": "5bd47912-7621-4a45-9aae-66f5c1ec809e",
     "showTitle": false,
     "tableResultSettingsMap": {},
     "title": ""
    }
   },
   "outputs": [],
   "source": [
    "def plotar_grafico_barra(dados_x, dados_y, tipo_grafico, titulo, xlabel, ylabel, tamanho_x = 6, tamanho_y = 3):\n",
    "\n",
    "    # Criando o gráfico\n",
    "    plt.figure(figsize=(tamanho_x, tamanho_y))\n",
    "    \n",
    "    if(tipo_grafico == 'horizontal'):\n",
    "        plt.barh(dados_x, dados_y)\n",
    "\n",
    "    else:\n",
    "        plt.bar(dados_x, dados_y)   \n",
    "\n",
    "    # Adicionando título e rótulos\n",
    "    plt.title(titulo)\n",
    "    plt.xlabel(xlabel)\n",
    "    plt.ylabel(ylabel)\n",
    "\n",
    "    # Ajustando o tamanho das fontes\n",
    "    plt.xticks(fontsize=8)\n",
    "    plt.yticks(fontsize=8)\n",
    "\n",
    "    plt.title(titulo, fontsize=11)\n",
    "    plt.xlabel(xlabel, fontsize=9)\n",
    "    plt.ylabel(ylabel, fontsize=9)\n",
    "\n",
    "    # Mostrando o gráfico\n",
    "    plt.show()\n"
   ]
  }
 ],
 "metadata": {
  "application/vnd.databricks.v1+notebook": {
   "computePreferences": null,
   "dashboards": [],
   "environmentMetadata": {
    "base_environment": "",
    "environment_version": "3"
   },
   "inputWidgetPreferences": null,
   "language": "python",
   "notebookMetadata": {
    "pythonIndentUnit": 4
   },
   "notebookName": "analise_dados_functions",
   "widgets": {}
  },
  "language_info": {
   "name": "python"
  }
 },
 "nbformat": 4,
 "nbformat_minor": 0
}