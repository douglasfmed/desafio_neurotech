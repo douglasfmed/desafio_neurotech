{
 "cells": [
  {
   "cell_type": "markdown",
   "metadata": {
    "application/vnd.databricks.v1+cell": {
     "cellMetadata": {
      "byteLimit": 2048000,
      "rowLimit": 10000
     },
     "inputWidgets": {},
     "nuid": "af674704-5ba0-467a-be68-3aed66b280a7",
     "showTitle": false,
     "tableResultSettingsMap": {},
     "title": ""
    }
   },
   "source": [
    "# Desafio Neurotech\n",
    "\n",
    "- Vaga: Analista de Dados II (Engenharia)\n",
    "- Candidato: Douglas de Farias Medeiros\n",
    "- Desafio: Orquestração e Análise dos Dados de IPTU do Recife\n",
    "- Objetivo deste notebook: Realizar a análise dos dados após a ingestão, transformação e refinamento"
   ]
  },
  {
   "cell_type": "code",
   "execution_count": 0,
   "metadata": {
    "application/vnd.databricks.v1+cell": {
     "cellMetadata": {
      "byteLimit": 2048000,
      "rowLimit": 10000
     },
     "inputWidgets": {},
     "nuid": "9f25f13a-a25a-448f-a8af-7b70a1c2f151",
     "showTitle": true,
     "tableResultSettingsMap": {},
     "title": "Importação das bibliotecas"
    }
   },
   "outputs": [],
   "source": [
    "from pyspark.sql import Row\n",
    "from pyspark.sql.types import StructType, StructField, StringType, IntegerType, DoubleType, ArrayType, TimestampType\n",
    "from pyspark.sql.functions import regexp_replace, col, trim, sum, when, to_timestamp, substring, count, lit, round, current_date, months_between, floor, to_date, row_number, desc\n",
    "from pyspark.sql.window import Window\n",
    "import re\n",
    "import matplotlib.pyplot as plt"
   ]
  },
  {
   "cell_type": "code",
   "execution_count": 0,
   "metadata": {
    "application/vnd.databricks.v1+cell": {
     "cellMetadata": {
      "byteLimit": 2048000,
      "rowLimit": 10000
     },
     "inputWidgets": {},
     "nuid": "fafb52c0-0ed0-41db-a72b-ce87761c1c20",
     "showTitle": true,
     "tableResultSettingsMap": {},
     "title": "Importação de funções auxiliares"
    }
   },
   "outputs": [],
   "source": [
    "%run /Workspace/Users/douglasfmedeiros@outlook.com/desafio_neurotech/functions/analise_dados_functions"
   ]
  },
  {
   "cell_type": "markdown",
   "metadata": {
    "application/vnd.databricks.v1+cell": {
     "cellMetadata": {
      "byteLimit": 2048000,
      "rowLimit": 10000
     },
     "inputWidgets": {},
     "nuid": "195b61bf-6ec5-4aeb-9161-8e41374debc2",
     "showTitle": false,
     "tableResultSettingsMap": {},
     "title": ""
    }
   },
   "source": [
    "Vamos inicialmente importar os dados da tabela **DADOS_IPTU** que está na camada gold. Essa tabela possui dados consolidados de IPTU da cidade do Recife para o período compreendido entre 2020 e 2024, proveniente de arquivos nos formatos CSV e JSON. A ingestão desses dados nas camadas bronze, silver e gold foi realizada por meio do notebook *03_ingestao_dados*, executado previamente à análise deste notebook. Caso deseje efetuar uma nova carga dos dados ou ainda não tenha feito isso, descomente o código abaixo, execute-o e aguarde a carga de dados ser realizada até a camada gold.\n",
    "\n",
    "*Obs.: Antes de executar o comando a seguir, faça o upload dos arquivos CSV e JSON dentro da pasta /Volumes/workspace/default/dados_iptu*"
   ]
  },
  {
   "cell_type": "code",
   "execution_count": 0,
   "metadata": {
    "application/vnd.databricks.v1+cell": {
     "cellMetadata": {
      "byteLimit": 2048000,
      "rowLimit": 10000
     },
     "inputWidgets": {},
     "nuid": "11eea2d1-fb77-4e92-be52-40d7373610b7",
     "showTitle": false,
     "tableResultSettingsMap": {},
     "title": ""
    }
   },
   "outputs": [],
   "source": [
    "# %run /Workspace/Users/douglasfmedeiros@outlook.com/desafio_neurotech/04_ingestao_dados"
   ]
  },
  {
   "cell_type": "markdown",
   "metadata": {
    "application/vnd.databricks.v1+cell": {
     "cellMetadata": {
      "byteLimit": 2048000,
      "rowLimit": 10000
     },
     "inputWidgets": {},
     "nuid": "0aa08607-115e-435e-98e7-ef8e595556c4",
     "showTitle": false,
     "tableResultSettingsMap": {},
     "title": ""
    }
   },
   "source": [
    "\n",
    "Partindo da premissa que os dados foram colocados na pasta indicada e o notebook de ingestão de dados foi executado, vamos seguir com a análise. Vamos ler os dados que foram importados, conforme abaixo:"
   ]
  },
  {
   "cell_type": "code",
   "execution_count": 0,
   "metadata": {
    "application/vnd.databricks.v1+cell": {
     "cellMetadata": {
      "byteLimit": 2048000,
      "rowLimit": 10000
     },
     "inputWidgets": {},
     "nuid": "0a51f2c8-3b58-43a0-b6c3-a5abdc26ffef",
     "showTitle": true,
     "tableResultSettingsMap": {},
     "title": "Leitura dos dados de IPTU da camada GOLD"
    }
   },
   "outputs": [],
   "source": [
    "# Leitura dos dados da tabela unificada\n",
    "df = spark.read.table('gold_layer.dados_iptu')\n",
    "\n",
    "# Caso prefira, você também pode importar o arquivo dados_iptu_unificado.csv e executar este notebook de análise diretamente dele, basta comentar o código acima e descomentar o abaixo:\n",
    "# df = spark.read.csv('dados_iptu_unificado.csv')"
   ]
  },
  {
   "cell_type": "markdown",
   "metadata": {
    "application/vnd.databricks.v1+cell": {
     "cellMetadata": {
      "byteLimit": 2048000,
      "rowLimit": 10000
     },
     "inputWidgets": {},
     "nuid": "ce4615db-9e75-4675-9564-577df839f5f6",
     "showTitle": false,
     "tableResultSettingsMap": {},
     "title": ""
    }
   },
   "source": [
    "A seguir, podemos observar quais colunas temos na tabela que foi lida:"
   ]
  },
  {
   "cell_type": "code",
   "execution_count": 0,
   "metadata": {
    "application/vnd.databricks.v1+cell": {
     "cellMetadata": {
      "byteLimit": 2048000,
      "rowLimit": 10000
     },
     "inputWidgets": {},
     "nuid": "9628fba1-1aec-4715-89f5-64fe0b9a1896",
     "showTitle": true,
     "tableResultSettingsMap": {},
     "title": "Identificação das colunas do dataframe"
    }
   },
   "outputs": [
    {
     "output_type": "execute_result",
     "data": {
      "text/plain": [
       "['NUMERO_DO_CONTRIBUINTE',\n",
       " 'ANO_DO_EXERCICIO',\n",
       " 'DATA_DO_CADASTRAMENTO',\n",
       " 'TIPO_DE_CONTRIBUINTE',\n",
       " 'CPFCNPJ_MASCARADO_DO_CONTRIBUINTE',\n",
       " 'LOGRADOURO',\n",
       " 'NUMERO',\n",
       " 'COMPLEMENTO',\n",
       " 'BAIRRO',\n",
       " 'CIDADE',\n",
       " 'ESTADO',\n",
       " 'FRACAO_IDEAL',\n",
       " 'AREA_TERRENO',\n",
       " 'AREA_CONSTRUIDA',\n",
       " 'AREA_OCUPADA',\n",
       " 'VALOR_DO_M2_DO_TERRENO',\n",
       " 'VALOR_DO_M2_DE_CONSTRUCAO',\n",
       " 'ANO_DA_CONSTRUCAO_CORRIGIDO',\n",
       " 'QUANTIDADE_DE_PAVIMENTOS',\n",
       " 'TIPO_DE_USO_DO_IMOVEL',\n",
       " 'TIPO_DE_PADRAO_DA_CONSTRUCAO',\n",
       " 'FATOR_DE_OBSOLESCENCIA',\n",
       " 'ANO_E_MES_DE_INICIO_DA_CONTRIBUICAO',\n",
       " 'VALOR_TOTAL_DO_IMOVEL_ESTIMADO',\n",
       " 'VALOR_COBRADO_DE_IPTU',\n",
       " 'CEP',\n",
       " 'REGIME_DE_TRIBUTACAO_DO_IPTU',\n",
       " 'REGIME_DE_TRIBUTACAO_DA_TRSD',\n",
       " 'TIPO_DE_CONSTRUCAO',\n",
       " 'TIPO_DE_EMPREENDIMENTO',\n",
       " 'TIPO_DE_ESTRUTURA',\n",
       " 'CODIGO_LOGRADOURO']"
      ]
     },
     "execution_count": 6,
     "metadata": {},
     "output_type": "execute_result"
    }
   ],
   "source": [
    "df.columns"
   ]
  },
  {
   "cell_type": "markdown",
   "metadata": {
    "application/vnd.databricks.v1+cell": {
     "cellMetadata": {
      "byteLimit": 2048000,
      "rowLimit": 10000
     },
     "inputWidgets": {},
     "nuid": "5addf38e-eca3-4e81-a106-cedd9beab1bd",
     "showTitle": false,
     "tableResultSettingsMap": {},
     "title": ""
    }
   },
   "source": [
    "Inicialmente, vamos investigar o número total de registros da tabela, mesmo que seja com dados duplicados:"
   ]
  },
  {
   "cell_type": "code",
   "execution_count": 0,
   "metadata": {
    "application/vnd.databricks.v1+cell": {
     "cellMetadata": {
      "byteLimit": 2048000,
      "rowLimit": 10000
     },
     "inputWidgets": {},
     "nuid": "4e5787ca-b290-48c1-89ec-197d7843410d",
     "showTitle": false,
     "tableResultSettingsMap": {},
     "title": ""
    }
   },
   "outputs": [
    {
     "output_type": "stream",
     "name": "stdout",
     "output_type": "stream",
     "text": [
      "Total de registros (considerando imóveis duplicados): 1600612\n"
     ]
    }
   ],
   "source": [
    "# Identificação do número de registros da tabela\n",
    "total_registros = df.count()\n",
    "print(f\"Total de registros (considerando imóveis duplicados): {total_registros}\")"
   ]
  },
  {
   "cell_type": "markdown",
   "metadata": {
    "application/vnd.databricks.v1+cell": {
     "cellMetadata": {
      "byteLimit": 2048000,
      "rowLimit": 10000
     },
     "inputWidgets": {},
     "nuid": "0ab435b8-af53-4e59-b813-7c5c87cb20f3",
     "showTitle": false,
     "tableResultSettingsMap": {},
     "title": ""
    }
   },
   "source": [
    "## Quantos imóveis há na tabela? \n",
    "\n",
    "Para determinar quantos imóveis distintos existem na tabela, será feita uma análise considerando como identificadores únicos os seguintes campos:\n",
    "\n",
    "- **Logradouro**  \n",
    "- **Número**  \n",
    "- **Complemento**  \n",
    "- **Bairro**  \n",
    "- **CEP**  \n",
    "- **Cidade**  \n",
    "- **Estado**\n",
    "\n",
    "Cada combinação exclusiva desses valores representa um imóvel único. Ou seja, imóveis com os mesmos dados em todas essas colunas serão considerados duplicatas."
   ]
  },
  {
   "cell_type": "code",
   "execution_count": 0,
   "metadata": {
    "application/vnd.databricks.v1+cell": {
     "cellMetadata": {
      "byteLimit": 2048000,
      "rowLimit": 10000
     },
     "inputWidgets": {},
     "nuid": "998f0c32-1020-4841-84cf-3659540170b5",
     "showTitle": false,
     "tableResultSettingsMap": {},
     "title": ""
    }
   },
   "outputs": [
    {
     "output_type": "stream",
     "name": "stdout",
     "output_type": "stream",
     "text": [
      "Total de imóveis únicos: 400320\n"
     ]
    }
   ],
   "source": [
    "# Colunas que identificam um imóvel\n",
    "colunas_identificacao = [\"LOGRADOURO\", \"NUMERO\", \"BAIRRO\", \"CIDADE\", \"CEP\", \"ESTADO\", \"COMPLEMENTO\"]\n",
    "\n",
    "# Define uma janela de partição por imóvel, ordenando pelo ano mais recente\n",
    "janela = Window.partitionBy(*colunas_identificacao).orderBy(desc(\"ANO_DO_EXERCICIO\"))\n",
    "\n",
    "# Adiciona um número de linha para selecionar o registro mais recente por imóvel\n",
    "df_com_rank = df.withColumn(\"rank\", row_number().over(janela))\n",
    "\n",
    "# Filtra apenas os registros com rank 1 (ou seja, o mais recente por imóvel)\n",
    "df_imoveis_unicos = df_com_rank.filter(\"rank = 1\").drop(\"rank\")\n",
    "\n",
    "# Exibe o resultado\n",
    "print(f\"Total de imóveis únicos: {df_imoveis_unicos.count()}\")"
   ]
  },
  {
   "cell_type": "markdown",
   "metadata": {
    "application/vnd.databricks.v1+cell": {
     "cellMetadata": {
      "byteLimit": 2048000,
      "rowLimit": 10000
     },
     "inputWidgets": {},
     "nuid": "5e14fd33-68be-4564-8122-0599dbd860fd",
     "showTitle": false,
     "tableResultSettingsMap": {},
     "title": ""
    }
   },
   "source": [
    "A tabela de dados de IPTU possui 400.320 imóveis registrados de maneira única."
   ]
  },
  {
   "cell_type": "markdown",
   "metadata": {
    "application/vnd.databricks.v1+cell": {
     "cellMetadata": {
      "byteLimit": 2048000,
      "rowLimit": 10000
     },
     "inputWidgets": {},
     "nuid": "79f30876-22dc-49e4-a849-e286907f5a06",
     "showTitle": false,
     "tableResultSettingsMap": {},
     "title": ""
    }
   },
   "source": [
    "## Quais são os principais tipos de uso dos imóveis?\n",
    "\n",
    "A seguir, podemos visualizar como se dividem os imóveis pelo tipo de uso. Observamos no gráfico que a maioria dos imóveis são destinados para uso residencial, com pouco mais de 330.000 imóveis."
   ]
  },
  {
   "cell_type": "code",
   "execution_count": 0,
   "metadata": {
    "application/vnd.databricks.v1+cell": {
     "cellMetadata": {
      "byteLimit": 2048000,
      "rowLimit": 10000
     },
     "inputWidgets": {},
     "nuid": "81300829-2622-4c19-9cd6-aba3be1e272e",
     "showTitle": false,
     "tableResultSettingsMap": {},
     "title": ""
    }
   },
   "outputs": [
    {
     "output_type": "display_data",
     "data": {
      "image/png": "[encoded data removed]",
      "text/plain": [
       "<Figure size 600x300 with 1 Axes>"
      ]
     },
     "metadata": {},
     "output_type": "display_data"
    },
    {
     "output_type": "display_data",
     "data": {
      "text/html": [
       "<style scoped>\n",
       "  .table-result-container {\n",
       "    max-height: 300px;\n",
       "    overflow: auto;\n",
       "  }\n",
       "  table, th, td {\n",
       "    border: 1px solid black;\n",
       "    border-collapse: collapse;\n",
       "  }\n",
       "  th, td {\n",
       "    padding: 5px;\n",
       "  }\n",
       "  th {\n",
       "    text-align: left;\n",
       "  }\n",
       "</style><div class='table-result-container'><table class='table-result'><thead style='background-color: white'><tr><th>TIPO_DE_USO_DO_IMOVEL</th><th>QUANTIDADE</th></tr></thead><tbody><tr><td>RESIDENCIAL</td><td>332160</td></tr><tr><td>COMERCIAL COM LIXO ORGANICO</td><td>40081</td></tr><tr><td>COMERCIAL SEM LIXO ORGANICO</td><td>28079</td></tr></tbody></table></div>"
      ]
     },
     "metadata": {
      "application/vnd.databricks.v1+output": {
       "addedWidgets": {},
       "aggData": [],
       "aggError": "",
       "aggOverflow": false,
       "aggSchema": [],
       "aggSeriesLimitReached": false,
       "aggType": "",
       "arguments": {},
       "columnCustomDisplayInfos": {},
       "data": [
        [
         "RESIDENCIAL",
         332160
        ],
        [
         "COMERCIAL COM LIXO ORGANICO",
         40081
        ],
        [
         "COMERCIAL SEM LIXO ORGANICO",
         28079
        ]
       ],
       "datasetInfos": [],
       "dbfsResultPath": null,
       "isJsonSchema": true,
       "metadata": {},
       "overflow": false,
       "plotOptions": {
        "customPlotOptions": {},
        "displayType": "table",
        "pivotAggregation": null,
        "pivotColumns": null,
        "xColumns": null,
        "yColumns": null
       },
       "removedWidgets": [],
       "schema": [
        {
         "metadata": "{}",
         "name": "TIPO_DE_USO_DO_IMOVEL",
         "type": "\"string\""
        },
        {
         "metadata": "{}",
         "name": "QUANTIDADE",
         "type": "\"long\""
        }
       ],
       "type": "table"
      }
     },
     "output_type": "display_data"
    }
   ],
   "source": [
    "distribuicao_tipo = df_imoveis_unicos.select(*colunas_identificacao, \"TIPO_DE_USO_DO_IMOVEL\")\\\n",
    "    .groupBy(\"TIPO_DE_USO_DO_IMOVEL\").count().withColumnRenamed('count', 'QUANTIDADE').orderBy(\"QUANTIDADE\", ascending=False)\n",
    "\n",
    "# Coletar os dados do Spark DataFrame\n",
    "dados = distribuicao_tipo.select(\"TIPO_DE_USO_DO_IMOVEL\", \"QUANTIDADE\").orderBy('QUANTIDADE').collect()\n",
    "\n",
    "# Transformar em listas nativas\n",
    "tipos = [f\"{linha['TIPO_DE_USO_DO_IMOVEL']}\" for linha in dados]\n",
    "tipos = [palavra.capitalize() for palavra in tipos]\n",
    "quantidades = [linha[\"QUANTIDADE\"] for linha in dados]\n",
    "\n",
    "plotar_grafico_barra(tipos, quantidades, 'horizontal', 'Distribuição dos Tipos de Uso dos Imóveis', 'Tipos de Uso', 'Quantidade')\n",
    "\n",
    "distribuicao_tipo.display()"
   ]
  },
  {
   "cell_type": "markdown",
   "metadata": {
    "application/vnd.databricks.v1+cell": {
     "cellMetadata": {
      "byteLimit": 2048000,
      "rowLimit": 10000
     },
     "inputWidgets": {},
     "nuid": "0e50dc2a-db17-42a3-aa41-fe2ec8f813ec",
     "showTitle": false,
     "tableResultSettingsMap": {},
     "title": ""
    }
   },
   "source": [
    "## Em quais bairros temos mais imóveis?\n",
    "\n",
    "Vamos analisar agora a distribuição dos imóveis por bairro. Como temos muitos bairros, deixamos todos os resultados visíveis na tabela e no gráfico ilustramos apenas os 20 bairros com maior concentração de imóveis na base de dados que está sendo analisada. \n",
    "\n",
    "Veja que Boa Viagem possui a maior concentração de imóveis (16,88%), seguido do bairro da Várzea (3,61%) e Boa Vista (3,41%)."
   ]
  },
  {
   "cell_type": "code",
   "execution_count": 0,
   "metadata": {
    "application/vnd.databricks.v1+cell": {
     "cellMetadata": {
      "byteLimit": 2048000,
      "rowLimit": 10000
     },
     "inputWidgets": {},
     "nuid": "60ecd093-22c7-4220-b60d-a79fcb53a2b0",
     "showTitle": false,
     "tableResultSettingsMap": {},
     "title": ""
    }
   },
   "outputs": [
    {
     "output_type": "display_data",
     "data": {
      "text/html": [
       "<style scoped>\n",
       "  .table-result-container {\n",
       "    max-height: 300px;\n",
       "    overflow: auto;\n",
       "  }\n",
       "  table, th, td {\n",
       "    border: 1px solid black;\n",
       "    border-collapse: collapse;\n",
       "  }\n",
       "  th, td {\n",
       "    padding: 5px;\n",
       "  }\n",
       "  th {\n",
       "    text-align: left;\n",
       "  }\n",
       "</style><div class='table-result-container'><table class='table-result'><thead style='background-color: white'><tr><th>BAIRRO</th><th>QUANTIDADE</th><th>% DO TOTAL</th></tr></thead><tbody><tr><td>BOA VIAGEM</td><td>67566</td><td>16.88</td></tr><tr><td>VARZEA</td><td>14432</td><td>3.61</td></tr><tr><td>BOA VISTA</td><td>13669</td><td>3.41</td></tr><tr><td>IMBIRIBEIRA</td><td>13528</td><td>3.38</td></tr><tr><td>CASA AMARELA</td><td>13465</td><td>3.36</td></tr><tr><td>PINA</td><td>11696</td><td>2.92</td></tr><tr><td>CORDEIRO</td><td>11588</td><td>2.89</td></tr><tr><td>MADALENA</td><td>11357</td><td>2.84</td></tr><tr><td>GRACAS</td><td>11069</td><td>2.77</td></tr><tr><td>IPUTINGA</td><td>10324</td><td>2.58</td></tr><tr><td>AFOGADOS</td><td>8501</td><td>2.12</td></tr><tr><td>AGUA FRIA</td><td>8158</td><td>2.04</td></tr><tr><td>SANTO AMARO</td><td>8158</td><td>2.04</td></tr><tr><td>ENCRUZILHADA</td><td>7658</td><td>1.91</td></tr><tr><td>TORRE</td><td>7626</td><td>1.9</td></tr><tr><td>JARDIM SAO PAULO</td><td>7458</td><td>1.86</td></tr><tr><td>COHAB</td><td>7401</td><td>1.85</td></tr><tr><td>AREIAS</td><td>7360</td><td>1.84</td></tr><tr><td>IPSEP</td><td>6758</td><td>1.69</td></tr><tr><td>CAMPO GRANDE</td><td>6358</td><td>1.59</td></tr><tr><td>ESPINHEIRO</td><td>6343</td><td>1.58</td></tr><tr><td>TAMARINEIRA</td><td>6288</td><td>1.57</td></tr><tr><td>IBURA</td><td>6211</td><td>1.55</td></tr><tr><td>SANTO ANTONIO</td><td>5494</td><td>1.37</td></tr><tr><td>VASCO DA GAMA</td><td>5399</td><td>1.35</td></tr><tr><td>SAN MARTIN</td><td>5145</td><td>1.29</td></tr><tr><td>NOVA DESCOBERTA</td><td>4323</td><td>1.08</td></tr><tr><td>BARRO</td><td>3893</td><td>0.97</td></tr><tr><td>ARRUDA</td><td>3823</td><td>0.95</td></tr><tr><td>PARNAMIRIM</td><td>3655</td><td>0.91</td></tr><tr><td>SAO JOSE</td><td>3554</td><td>0.89</td></tr><tr><td>TEJIPIO</td><td>3331</td><td>0.83</td></tr><tr><td>ROSARINHO</td><td>3297</td><td>0.82</td></tr><tr><td>CASA FORTE</td><td>3111</td><td>0.78</td></tr><tr><td>PRADO</td><td>3082</td><td>0.77</td></tr><tr><td>BRASILIA TEIMOSA</td><td>2991</td><td>0.75</td></tr><tr><td>ENGENHO DO MEIO</td><td>2813</td><td>0.7</td></tr><tr><td>AFLITOS</td><td>2632</td><td>0.66</td></tr><tr><td>CAXANGA</td><td>2408</td><td>0.6</td></tr><tr><td>ILHA DO LEITE</td><td>2342</td><td>0.59</td></tr><tr><td>POCO</td><td>2322</td><td>0.58</td></tr><tr><td>JORDAO</td><td>2306</td><td>0.58</td></tr><tr><td>COQUEIRAL</td><td>2272</td><td>0.57</td></tr><tr><td>MUSTARDINHA</td><td>2254</td><td>0.56</td></tr><tr><td>TORROES</td><td>2241</td><td>0.56</td></tr><tr><td>SOLEDADE</td><td>2151</td><td>0.54</td></tr><tr><td>MONTEIRO</td><td>1968</td><td>0.49</td></tr><tr><td>ALTO JOSE DO PINHO</td><td>1912</td><td>0.48</td></tr><tr><td>MORRO DA CONCEICAO</td><td>1852</td><td>0.46</td></tr><tr><td>LINHA DO TIRO</td><td>1850</td><td>0.46</td></tr><tr><td>MACAXEIRA</td><td>1843</td><td>0.46</td></tr><tr><td>PORTO DA MADEIRA</td><td>1796</td><td>0.45</td></tr><tr><td>FUNDAO</td><td>1784</td><td>0.45</td></tr><tr><td>ALTO JOSE BONIFACIO</td><td>1701</td><td>0.42</td></tr><tr><td>DOIS UNIDOS</td><td>1666</td><td>0.42</td></tr><tr><td>ESTANCIA</td><td>1646</td><td>0.41</td></tr><tr><td>CURADO</td><td>1608</td><td>0.4</td></tr><tr><td>BOMBA DO HEMETERIO</td><td>1581</td><td>0.39</td></tr><tr><td>CAJUEIRO</td><td>1580</td><td>0.39</td></tr><tr><td>PAISSANDU</td><td>1549</td><td>0.39</td></tr><tr><td>CAMPINA DO BARRETO</td><td>1538</td><td>0.38</td></tr><tr><td>BONGI</td><td>1536</td><td>0.38</td></tr><tr><td>ZUMBI</td><td>1503</td><td>0.38</td></tr><tr><td>BEBERIBE</td><td>1494</td><td>0.37</td></tr><tr><td>SANCHO</td><td>1439</td><td>0.36</td></tr><tr><td>MANGUEIRA</td><td>1423</td><td>0.36</td></tr><tr><td>JIQUIA</td><td>1404</td><td>0.35</td></tr><tr><td>ILHA DO RETIRO</td><td>1384</td><td>0.35</td></tr><tr><td>MANGABEIRA</td><td>1303</td><td>0.33</td></tr><tr><td>SANTANA</td><td>1218</td><td>0.3</td></tr><tr><td>DERBY</td><td>1168</td><td>0.29</td></tr><tr><td>COELHOS</td><td>1103</td><td>0.28</td></tr><tr><td>ALTO DO MANDU</td><td>1090</td><td>0.27</td></tr><tr><td>HIPODROMO</td><td>912</td><td>0.23</td></tr><tr><td>TORREAO</td><td>801</td><td>0.2</td></tr><tr><td>ALTO SANTA TEREZINHA</td><td>789</td><td>0.2</td></tr><tr><td>RECIFE</td><td>783</td><td>0.2</td></tr><tr><td>JAQUEIRA</td><td>731</td><td>0.18</td></tr><tr><td>ILHA JOANA BEZERRA</td><td>713</td><td>0.18</td></tr><tr><td>BREJO DE BEBERIBE</td><td>704</td><td>0.18</td></tr><tr><td>PONTO DE PARADA</td><td>702</td><td>0.18</td></tr><tr><td>BREJO DA GUABIRABA</td><td>686</td><td>0.17</td></tr><tr><td>CORREGO DO JENIPAPO</td><td>658</td><td>0.16</td></tr><tr><td>CACOTE</td><td>642</td><td>0.16</td></tr><tr><td>GUABIRABA</td><td>533</td><td>0.13</td></tr><tr><td>TOTO</td><td>504</td><td>0.13</td></tr><tr><td>CABANGA</td><td>394</td><td>0.1</td></tr><tr><td>PASSARINHO</td><td>358</td><td>0.09</td></tr><tr><td>APIPUCOS</td><td>335</td><td>0.08</td></tr><tr><td>SITIO DOS PINTOS</td><td>171</td><td>0.04</td></tr><tr><td>DOIS IRMAOS</td><td>80</td><td>0.02</td></tr><tr><td>PEIXINHOS</td><td>54</td><td>0.01</td></tr><tr><td>CIDADE UNIVERSITARIA</td><td>20</td><td>0.0</td></tr></tbody></table></div>"
      ]
     },
     "metadata": {
      "application/vnd.databricks.v1+output": {
       "addedWidgets": {},
       "aggData": [],
       "aggError": "",
       "aggOverflow": false,
       "aggSchema": [],
       "aggSeriesLimitReached": false,
       "aggType": "",
       "arguments": {},
       "columnCustomDisplayInfos": {},
       "data": [
        [
         "BOA VIAGEM",
         67566,
         16.88
        ],
        [
         "VARZEA",
         14432,
         3.61
        ],
        [
         "BOA VISTA",
         13669,
         3.41
        ],
        [
         "IMBIRIBEIRA",
         13528,
         3.38
        ],
        [
         "CASA AMARELA",
         13465,
         3.36
        ],
        [
         "PINA",
         11696,
         2.92
        ],
        [
         "CORDEIRO",
         11588,
         2.89
        ],
        [
         "MADALENA",
         11357,
         2.84
        ],
        [
         "GRACAS",
         11069,
         2.77
        ],
        [
         "IPUTINGA",
         10324,
         2.58
        ],
        [
         "AFOGADOS",
         8501,
         2.12
        ],
        [
         "AGUA FRIA",
         8158,
         2.04
        ],
        [
         "SANTO AMARO",
         8158,
         2.04
        ],
        [
         "ENCRUZILHADA",
         7658,
         1.91
        ],
        [
         "TORRE",
         7626,
         1.9
        ],
        [
         "JARDIM SAO PAULO",
         7458,
         1.86
        ],
        [
         "COHAB",
         7401,
         1.85
        ],
        [
         "AREIAS",
         7360,
         1.84
        ],
        [
         "IPSEP",
         6758,
         1.69
        ],
        [
         "CAMPO GRANDE",
         6358,
         1.59
        ],
        [
         "ESPINHEIRO",
         6343,
         1.58
        ],
        [
         "TAMARINEIRA",
         6288,
         1.57
        ],
        [
         "IBURA",
         6211,
         1.55
        ],
        [
         "SANTO ANTONIO",
         5494,
         1.37
        ],
        [
         "VASCO DA GAMA",
         5399,
         1.35
        ],
        [
         "SAN MARTIN",
         5145,
         1.29
        ],
        [
         "NOVA DESCOBERTA",
         4323,
         1.08
        ],
        [
         "BARRO",
         3893,
         0.97
        ],
        [
         "ARRUDA",
         3823,
         0.95
        ],
        [
         "PARNAMIRIM",
         3655,
         0.91
        ],
        [
         "SAO JOSE",
         3554,
         0.89
        ],
        [
         "TEJIPIO",
         3331,
         0.83
        ],
        [
         "ROSARINHO",
         3297,
         0.82
        ],
        [
         "CASA FORTE",
         3111,
         0.78
        ],
        [
         "PRADO",
         3082,
         0.77
        ],
        [
         "BRASILIA TEIMOSA",
         2991,
         0.75
        ],
        [
         "ENGENHO DO MEIO",
         2813,
         0.7
        ],
        [
         "AFLITOS",
         2632,
         0.66
        ],
        [
         "CAXANGA",
         2408,
         0.6
        ],
        [
         "ILHA DO LEITE",
         2342,
         0.59
        ],
        [
         "POCO",
         2322,
         0.58
        ],
        [
         "JORDAO",
         2306,
         0.58
        ],
        [
         "COQUEIRAL",
         2272,
         0.57
        ],
        [
         "MUSTARDINHA",
         2254,
         0.56
        ],
        [
         "TORROES",
         2241,
         0.56
        ],
        [
         "SOLEDADE",
         2151,
         0.54
        ],
        [
         "MONTEIRO",
         1968,
         0.49
        ],
        [
         "ALTO JOSE DO PINHO",
         1912,
         0.48
        ],
        [
         "MORRO DA CONCEICAO",
         1852,
         0.46
        ],
        [
         "LINHA DO TIRO",
         1850,
         0.46
        ],
        [
         "MACAXEIRA",
         1843,
         0.46
        ],
        [
         "PORTO DA MADEIRA",
         1796,
         0.45
        ],
        [
         "FUNDAO",
         1784,
         0.45
        ],
        [
         "ALTO JOSE BONIFACIO",
         1701,
         0.42
        ],
        [
         "DOIS UNIDOS",
         1666,
         0.42
        ],
        [
         "ESTANCIA",
         1646,
         0.41
        ],
        [
         "CURADO",
         1608,
         0.4
        ],
        [
         "BOMBA DO HEMETERIO",
         1581,
         0.39
        ],
        [
         "CAJUEIRO",
         1580,
         0.39
        ],
        [
         "PAISSANDU",
         1549,
         0.39
        ],
        [
         "CAMPINA DO BARRETO",
         1538,
         0.38
        ],
        [
         "BONGI",
         1536,
         0.38
        ],
        [
         "ZUMBI",
         1503,
         0.38
        ],
        [
         "BEBERIBE",
         1494,
         0.37
        ],
        [
         "SANCHO",
         1439,
         0.36
        ],
        [
         "MANGUEIRA",
         1423,
         0.36
        ],
        [
         "JIQUIA",
         1404,
         0.35
        ],
        [
         "ILHA DO RETIRO",
         1384,
         0.35
        ],
        [
         "MANGABEIRA",
         1303,
         0.33
        ],
        [
         "SANTANA",
         1218,
         0.3
        ],
        [
         "DERBY",
         1168,
         0.29
        ],
        [
         "COELHOS",
         1103,
         0.28
        ],
        [
         "ALTO DO MANDU",
         1090,
         0.27
        ],
        [
         "HIPODROMO",
         912,
         0.23
        ],
        [
         "TORREAO",
         801,
         0.2
        ],
        [
         "ALTO SANTA TEREZINHA",
         789,
         0.2
        ],
        [
         "RECIFE",
         783,
         0.2
        ],
        [
         "JAQUEIRA",
         731,
         0.18
        ],
        [
         "ILHA JOANA BEZERRA",
         713,
         0.18
        ],
        [
         "BREJO DE BEBERIBE",
         704,
         0.18
        ],
        [
         "PONTO DE PARADA",
         702,
         0.18
        ],
        [
         "BREJO DA GUABIRABA",
         686,
         0.17
        ],
        [
         "CORREGO DO JENIPAPO",
         658,
         0.16
        ],
        [
         "CACOTE",
         642,
         0.16
        ],
        [
         "GUABIRABA",
         533,
         0.13
        ],
        [
         "TOTO",
         504,
         0.13
        ],
        [
         "CABANGA",
         394,
         0.1
        ],
        [
         "PASSARINHO",
         358,
         0.09
        ],
        [
         "APIPUCOS",
         335,
         0.08
        ],
        [
         "SITIO DOS PINTOS",
         171,
         0.04
        ],
        [
         "DOIS IRMAOS",
         80,
         0.02
        ],
        [
         "PEIXINHOS",
         54,
         0.01
        ],
        [
         "CIDADE UNIVERSITARIA",
         20,
         0.0
        ]
       ],
       "datasetInfos": [],
       "dbfsResultPath": null,
       "isJsonSchema": true,
       "metadata": {},
       "overflow": false,
       "plotOptions": {
        "customPlotOptions": {},
        "displayType": "table",
        "pivotAggregation": null,
        "pivotColumns": null,
        "xColumns": null,
        "yColumns": null
       },
       "removedWidgets": [],
       "schema": [
        {
         "metadata": "{}",
         "name": "BAIRRO",
         "type": "\"string\""
        },
        {
         "metadata": "{}",
         "name": "QUANTIDADE",
         "type": "\"long\""
        },
        {
         "metadata": "{}",
         "name": "% DO TOTAL",
         "type": "\"double\""
        }
       ],
       "type": "table"
      }
     },
     "output_type": "display_data"
    }
   ],
   "source": [
    "# Agrupa por bairro e conta quantos registros únicos há em cada um\n",
    "distribuicao_bairro = df_imoveis_unicos.groupBy(\"BAIRRO\").count().withColumnRenamed('count', 'QUANTIDADE').orderBy(\"QUANTIDADE\", ascending=False)\n",
    "\n",
    "total = distribuicao_bairro.selectExpr(\"sum(QUANTIDADE) as total\").collect()[0][\"total\"]\n",
    "\n",
    "distribuicao_bairro = distribuicao_bairro.withColumn(\n",
    "    \"% DO TOTAL\",\n",
    "    round((col(\"QUANTIDADE\") / lit(total)) * 100, 2)\n",
    ")\n",
    "\n",
    "# Exibe o resultado\n",
    "distribuicao_bairro.display()"
   ]
  },
  {
   "cell_type": "code",
   "execution_count": 0,
   "metadata": {
    "application/vnd.databricks.v1+cell": {
     "cellMetadata": {
      "byteLimit": 2048000,
      "rowLimit": 10000
     },
     "inputWidgets": {},
     "nuid": "9fc4588e-08ad-42a4-8e75-7e791377d37e",
     "showTitle": false,
     "tableResultSettingsMap": {},
     "title": ""
    }
   },
   "outputs": [
    {
     "output_type": "display_data",
     "data": {
      "image/png": "[encoded data removed]",
      "text/plain": [
       "<Figure size 800x600 with 1 Axes>"
      ]
     },
     "metadata": {},
     "output_type": "display_data"
    }
   ],
   "source": [
    "dados = distribuicao_bairro.collect()[:20]\n",
    "\n",
    "bairros = [linha['BAIRRO'] for linha in dados]\n",
    "contagens = [linha['QUANTIDADE'] for linha in dados]\n",
    "\n",
    "plotar_grafico_barra(bairros, contagens, 'horizontal', 'Distribuição dos Imóveis pelos Bairro (Top 20)', 'Quantidade', 'Bairro', 8, 6)"
   ]
  },
  {
   "cell_type": "markdown",
   "metadata": {
    "application/vnd.databricks.v1+cell": {
     "cellMetadata": {
      "byteLimit": 2048000,
      "rowLimit": 10000
     },
     "inputWidgets": {},
     "nuid": "1b94c425-03ae-4c7d-9fad-77e96fd7304b",
     "showTitle": false,
     "tableResultSettingsMap": {},
     "title": ""
    }
   },
   "source": [
    "Na tabela abaixo, temos uma abertura cruzada dos dados por bairro e por tipo de uso do imóvel. Perceba que na grande maioria dos bairros os imóveis residenciais dominam, porém, temos alguns bairros em que temos mais imóveis comerciais, como, por exemplo, Paissandu e o bairro do Recife, na região central da cidade."
   ]
  },
  {
   "cell_type": "code",
   "execution_count": 0,
   "metadata": {
    "application/vnd.databricks.v1+cell": {
     "cellMetadata": {
      "byteLimit": 2048000,
      "rowLimit": 10000
     },
     "inputWidgets": {},
     "nuid": "54ab7a42-6f45-4822-b211-a610512485e5",
     "showTitle": false,
     "tableResultSettingsMap": {
      "0": {
       "dataGridStateBlob": "{\"version\":1,\"tableState\":{\"columnPinning\":{\"left\":[\"#row_number#\"],\"right\":[]},\"columnSizing\":{},\"columnVisibility\":{}},\"settings\":{\"columns\":{}},\"syncTimestamp\":1758501848149}",
       "filterBlob": null,
       "queryPlanFiltersBlob": null,
       "tableResultIndex": 0
      }
     },
     "title": ""
    }
   },
   "outputs": [
    {
     "output_type": "display_data",
     "data": {
      "text/html": [
       "<style scoped>\n",
       "  .table-result-container {\n",
       "    max-height: 300px;\n",
       "    overflow: auto;\n",
       "  }\n",
       "  table, th, td {\n",
       "    border: 1px solid black;\n",
       "    border-collapse: collapse;\n",
       "  }\n",
       "  th, td {\n",
       "    padding: 5px;\n",
       "  }\n",
       "  th {\n",
       "    text-align: left;\n",
       "  }\n",
       "</style><div class='table-result-container'><table class='table-result'><thead style='background-color: white'><tr><th>BAIRRO</th><th>TIPO_DE_USO_DO_IMOVEL</th><th>QUANTIDADE</th></tr></thead><tbody><tr><td>AFLITOS</td><td>RESIDENCIAL</td><td>2211</td></tr><tr><td>AFLITOS</td><td>COMERCIAL COM LIXO ORGANICO</td><td>274</td></tr><tr><td>AFLITOS</td><td>COMERCIAL SEM LIXO ORGANICO</td><td>147</td></tr><tr><td>AFOGADOS</td><td>RESIDENCIAL</td><td>6972</td></tr><tr><td>AFOGADOS</td><td>COMERCIAL COM LIXO ORGANICO</td><td>1018</td></tr><tr><td>AFOGADOS</td><td>COMERCIAL SEM LIXO ORGANICO</td><td>511</td></tr><tr><td>AGUA FRIA</td><td>RESIDENCIAL</td><td>7554</td></tr><tr><td>AGUA FRIA</td><td>COMERCIAL COM LIXO ORGANICO</td><td>440</td></tr><tr><td>AGUA FRIA</td><td>COMERCIAL SEM LIXO ORGANICO</td><td>164</td></tr><tr><td>ALTO DO MANDU</td><td>RESIDENCIAL</td><td>988</td></tr><tr><td>ALTO DO MANDU</td><td>COMERCIAL COM LIXO ORGANICO</td><td>82</td></tr><tr><td>ALTO DO MANDU</td><td>COMERCIAL SEM LIXO ORGANICO</td><td>20</td></tr><tr><td>ALTO JOSE BONIFACIO</td><td>RESIDENCIAL</td><td>1623</td></tr><tr><td>ALTO JOSE BONIFACIO</td><td>COMERCIAL COM LIXO ORGANICO</td><td>59</td></tr><tr><td>ALTO JOSE BONIFACIO</td><td>COMERCIAL SEM LIXO ORGANICO</td><td>19</td></tr><tr><td>ALTO JOSE DO PINHO</td><td>RESIDENCIAL</td><td>1785</td></tr><tr><td>ALTO JOSE DO PINHO</td><td>COMERCIAL COM LIXO ORGANICO</td><td>89</td></tr><tr><td>ALTO JOSE DO PINHO</td><td>COMERCIAL SEM LIXO ORGANICO</td><td>38</td></tr><tr><td>ALTO SANTA TEREZINHA</td><td>RESIDENCIAL</td><td>766</td></tr><tr><td>ALTO SANTA TEREZINHA</td><td>COMERCIAL COM LIXO ORGANICO</td><td>20</td></tr><tr><td>ALTO SANTA TEREZINHA</td><td>COMERCIAL SEM LIXO ORGANICO</td><td>3</td></tr><tr><td>APIPUCOS</td><td>RESIDENCIAL</td><td>298</td></tr><tr><td>APIPUCOS</td><td>COMERCIAL COM LIXO ORGANICO</td><td>29</td></tr><tr><td>APIPUCOS</td><td>COMERCIAL SEM LIXO ORGANICO</td><td>8</td></tr><tr><td>AREIAS</td><td>RESIDENCIAL</td><td>6382</td></tr><tr><td>AREIAS</td><td>COMERCIAL COM LIXO ORGANICO</td><td>503</td></tr><tr><td>AREIAS</td><td>COMERCIAL SEM LIXO ORGANICO</td><td>475</td></tr><tr><td>ARRUDA</td><td>RESIDENCIAL</td><td>3488</td></tr><tr><td>ARRUDA</td><td>COMERCIAL COM LIXO ORGANICO</td><td>233</td></tr><tr><td>ARRUDA</td><td>COMERCIAL SEM LIXO ORGANICO</td><td>102</td></tr><tr><td>BARRO</td><td>RESIDENCIAL</td><td>3555</td></tr><tr><td>BARRO</td><td>COMERCIAL COM LIXO ORGANICO</td><td>212</td></tr><tr><td>BARRO</td><td>COMERCIAL SEM LIXO ORGANICO</td><td>126</td></tr><tr><td>BEBERIBE</td><td>RESIDENCIAL</td><td>1283</td></tr><tr><td>BEBERIBE</td><td>COMERCIAL COM LIXO ORGANICO</td><td>133</td></tr><tr><td>BEBERIBE</td><td>COMERCIAL SEM LIXO ORGANICO</td><td>78</td></tr><tr><td>BOA VIAGEM</td><td>RESIDENCIAL</td><td>57061</td></tr><tr><td>BOA VIAGEM</td><td>COMERCIAL COM LIXO ORGANICO</td><td>6515</td></tr><tr><td>BOA VIAGEM</td><td>COMERCIAL SEM LIXO ORGANICO</td><td>3990</td></tr><tr><td>BOA VISTA</td><td>RESIDENCIAL</td><td>8000</td></tr><tr><td>BOA VISTA</td><td>COMERCIAL SEM LIXO ORGANICO</td><td>3219</td></tr><tr><td>BOA VISTA</td><td>COMERCIAL COM LIXO ORGANICO</td><td>2450</td></tr><tr><td>BOMBA DO HEMETERIO</td><td>RESIDENCIAL</td><td>1445</td></tr><tr><td>BOMBA DO HEMETERIO</td><td>COMERCIAL COM LIXO ORGANICO</td><td>110</td></tr><tr><td>BOMBA DO HEMETERIO</td><td>COMERCIAL SEM LIXO ORGANICO</td><td>26</td></tr><tr><td>BONGI</td><td>RESIDENCIAL</td><td>1356</td></tr><tr><td>BONGI</td><td>COMERCIAL COM LIXO ORGANICO</td><td>124</td></tr><tr><td>BONGI</td><td>COMERCIAL SEM LIXO ORGANICO</td><td>56</td></tr><tr><td>BRASILIA TEIMOSA</td><td>RESIDENCIAL</td><td>2758</td></tr><tr><td>BRASILIA TEIMOSA</td><td>COMERCIAL COM LIXO ORGANICO</td><td>173</td></tr><tr><td>BRASILIA TEIMOSA</td><td>COMERCIAL SEM LIXO ORGANICO</td><td>60</td></tr><tr><td>BREJO DA GUABIRABA</td><td>RESIDENCIAL</td><td>607</td></tr><tr><td>BREJO DA GUABIRABA</td><td>COMERCIAL COM LIXO ORGANICO</td><td>61</td></tr><tr><td>BREJO DA GUABIRABA</td><td>COMERCIAL SEM LIXO ORGANICO</td><td>18</td></tr><tr><td>BREJO DE BEBERIBE</td><td>RESIDENCIAL</td><td>629</td></tr><tr><td>BREJO DE BEBERIBE</td><td>COMERCIAL COM LIXO ORGANICO</td><td>56</td></tr><tr><td>BREJO DE BEBERIBE</td><td>COMERCIAL SEM LIXO ORGANICO</td><td>19</td></tr><tr><td>CABANGA</td><td>RESIDENCIAL</td><td>339</td></tr><tr><td>CABANGA</td><td>COMERCIAL COM LIXO ORGANICO</td><td>44</td></tr><tr><td>CABANGA</td><td>COMERCIAL SEM LIXO ORGANICO</td><td>11</td></tr><tr><td>CACOTE</td><td>RESIDENCIAL</td><td>594</td></tr><tr><td>CACOTE</td><td>COMERCIAL COM LIXO ORGANICO</td><td>39</td></tr><tr><td>CACOTE</td><td>COMERCIAL SEM LIXO ORGANICO</td><td>9</td></tr><tr><td>CAJUEIRO</td><td>RESIDENCIAL</td><td>1421</td></tr><tr><td>CAJUEIRO</td><td>COMERCIAL COM LIXO ORGANICO</td><td>108</td></tr><tr><td>CAJUEIRO</td><td>COMERCIAL SEM LIXO ORGANICO</td><td>51</td></tr><tr><td>CAMPINA DO BARRETO</td><td>RESIDENCIAL</td><td>1216</td></tr><tr><td>CAMPINA DO BARRETO</td><td>COMERCIAL SEM LIXO ORGANICO</td><td>257</td></tr><tr><td>CAMPINA DO BARRETO</td><td>COMERCIAL COM LIXO ORGANICO</td><td>65</td></tr><tr><td>CAMPO GRANDE</td><td>RESIDENCIAL</td><td>5728</td></tr><tr><td>CAMPO GRANDE</td><td>COMERCIAL COM LIXO ORGANICO</td><td>442</td></tr><tr><td>CAMPO GRANDE</td><td>COMERCIAL SEM LIXO ORGANICO</td><td>188</td></tr><tr><td>CASA AMARELA</td><td>RESIDENCIAL</td><td>11665</td></tr><tr><td>CASA AMARELA</td><td>COMERCIAL COM LIXO ORGANICO</td><td>1149</td></tr><tr><td>CASA AMARELA</td><td>COMERCIAL SEM LIXO ORGANICO</td><td>651</td></tr><tr><td>CASA FORTE</td><td>RESIDENCIAL</td><td>2586</td></tr><tr><td>CASA FORTE</td><td>COMERCIAL COM LIXO ORGANICO</td><td>346</td></tr><tr><td>CASA FORTE</td><td>COMERCIAL SEM LIXO ORGANICO</td><td>179</td></tr><tr><td>CAXANGA</td><td>RESIDENCIAL</td><td>2208</td></tr><tr><td>CAXANGA</td><td>COMERCIAL COM LIXO ORGANICO</td><td>126</td></tr><tr><td>CAXANGA</td><td>COMERCIAL SEM LIXO ORGANICO</td><td>74</td></tr><tr><td>CIDADE UNIVERSITARIA</td><td>RESIDENCIAL</td><td>17</td></tr><tr><td>CIDADE UNIVERSITARIA</td><td>COMERCIAL COM LIXO ORGANICO</td><td>3</td></tr><tr><td>COELHOS</td><td>RESIDENCIAL</td><td>459</td></tr><tr><td>COELHOS</td><td>COMERCIAL SEM LIXO ORGANICO</td><td>340</td></tr><tr><td>COELHOS</td><td>COMERCIAL COM LIXO ORGANICO</td><td>304</td></tr><tr><td>COHAB</td><td>RESIDENCIAL</td><td>6831</td></tr><tr><td>COHAB</td><td>COMERCIAL COM LIXO ORGANICO</td><td>378</td></tr><tr><td>COHAB</td><td>COMERCIAL SEM LIXO ORGANICO</td><td>192</td></tr><tr><td>COQUEIRAL</td><td>RESIDENCIAL</td><td>2159</td></tr><tr><td>COQUEIRAL</td><td>COMERCIAL COM LIXO ORGANICO</td><td>75</td></tr><tr><td>COQUEIRAL</td><td>COMERCIAL SEM LIXO ORGANICO</td><td>38</td></tr><tr><td>CORDEIRO</td><td>RESIDENCIAL</td><td>10242</td></tr><tr><td>CORDEIRO</td><td>COMERCIAL COM LIXO ORGANICO</td><td>864</td></tr><tr><td>CORDEIRO</td><td>COMERCIAL SEM LIXO ORGANICO</td><td>482</td></tr><tr><td>CORREGO DO JENIPAPO</td><td>RESIDENCIAL</td><td>613</td></tr><tr><td>CORREGO DO JENIPAPO</td><td>COMERCIAL COM LIXO ORGANICO</td><td>36</td></tr><tr><td>CORREGO DO JENIPAPO</td><td>COMERCIAL SEM LIXO ORGANICO</td><td>9</td></tr><tr><td>CURADO</td><td>RESIDENCIAL</td><td>1440</td></tr><tr><td>CURADO</td><td>COMERCIAL COM LIXO ORGANICO</td><td>120</td></tr><tr><td>CURADO</td><td>COMERCIAL SEM LIXO ORGANICO</td><td>48</td></tr><tr><td>DERBY</td><td>RESIDENCIAL</td><td>826</td></tr><tr><td>DERBY</td><td>COMERCIAL COM LIXO ORGANICO</td><td>220</td></tr><tr><td>DERBY</td><td>COMERCIAL SEM LIXO ORGANICO</td><td>122</td></tr><tr><td>DOIS IRMAOS</td><td>RESIDENCIAL</td><td>48</td></tr><tr><td>DOIS IRMAOS</td><td>COMERCIAL COM LIXO ORGANICO</td><td>20</td></tr><tr><td>DOIS IRMAOS</td><td>COMERCIAL SEM LIXO ORGANICO</td><td>12</td></tr><tr><td>DOIS UNIDOS</td><td>RESIDENCIAL</td><td>1528</td></tr><tr><td>DOIS UNIDOS</td><td>COMERCIAL COM LIXO ORGANICO</td><td>98</td></tr><tr><td>DOIS UNIDOS</td><td>COMERCIAL SEM LIXO ORGANICO</td><td>40</td></tr><tr><td>ENCRUZILHADA</td><td>RESIDENCIAL</td><td>6619</td></tr><tr><td>ENCRUZILHADA</td><td>COMERCIAL COM LIXO ORGANICO</td><td>543</td></tr><tr><td>ENCRUZILHADA</td><td>COMERCIAL SEM LIXO ORGANICO</td><td>496</td></tr><tr><td>ENGENHO DO MEIO</td><td>RESIDENCIAL</td><td>2561</td></tr><tr><td>ENGENHO DO MEIO</td><td>COMERCIAL COM LIXO ORGANICO</td><td>166</td></tr><tr><td>ENGENHO DO MEIO</td><td>COMERCIAL SEM LIXO ORGANICO</td><td>86</td></tr><tr><td>ESPINHEIRO</td><td>RESIDENCIAL</td><td>4877</td></tr><tr><td>ESPINHEIRO</td><td>COMERCIAL COM LIXO ORGANICO</td><td>909</td></tr><tr><td>ESPINHEIRO</td><td>COMERCIAL SEM LIXO ORGANICO</td><td>557</td></tr><tr><td>ESTANCIA</td><td>RESIDENCIAL</td><td>1343</td></tr><tr><td>ESTANCIA</td><td>COMERCIAL COM LIXO ORGANICO</td><td>199</td></tr><tr><td>ESTANCIA</td><td>COMERCIAL SEM LIXO ORGANICO</td><td>104</td></tr><tr><td>FUNDAO</td><td>RESIDENCIAL</td><td>1633</td></tr><tr><td>FUNDAO</td><td>COMERCIAL COM LIXO ORGANICO</td><td>82</td></tr><tr><td>FUNDAO</td><td>COMERCIAL SEM LIXO ORGANICO</td><td>69</td></tr><tr><td>GRACAS</td><td>RESIDENCIAL</td><td>9208</td></tr><tr><td>GRACAS</td><td>COMERCIAL COM LIXO ORGANICO</td><td>1163</td></tr><tr><td>GRACAS</td><td>COMERCIAL SEM LIXO ORGANICO</td><td>698</td></tr><tr><td>GUABIRABA</td><td>RESIDENCIAL</td><td>465</td></tr><tr><td>GUABIRABA</td><td>COMERCIAL COM LIXO ORGANICO</td><td>53</td></tr><tr><td>GUABIRABA</td><td>COMERCIAL SEM LIXO ORGANICO</td><td>15</td></tr><tr><td>HIPODROMO</td><td>RESIDENCIAL</td><td>810</td></tr><tr><td>HIPODROMO</td><td>COMERCIAL COM LIXO ORGANICO</td><td>77</td></tr><tr><td>HIPODROMO</td><td>COMERCIAL SEM LIXO ORGANICO</td><td>25</td></tr><tr><td>IBURA</td><td>RESIDENCIAL</td><td>5265</td></tr><tr><td>IBURA</td><td>COMERCIAL COM LIXO ORGANICO</td><td>624</td></tr><tr><td>IBURA</td><td>COMERCIAL SEM LIXO ORGANICO</td><td>322</td></tr><tr><td>ILHA DO LEITE</td><td>COMERCIAL COM LIXO ORGANICO</td><td>840</td></tr><tr><td>ILHA DO LEITE</td><td>COMERCIAL SEM LIXO ORGANICO</td><td>772</td></tr><tr><td>ILHA DO LEITE</td><td>RESIDENCIAL</td><td>730</td></tr><tr><td>ILHA DO RETIRO</td><td>RESIDENCIAL</td><td>1191</td></tr><tr><td>ILHA DO RETIRO</td><td>COMERCIAL COM LIXO ORGANICO</td><td>138</td></tr><tr><td>ILHA DO RETIRO</td><td>COMERCIAL SEM LIXO ORGANICO</td><td>55</td></tr><tr><td>ILHA JOANA BEZERRA</td><td>RESIDENCIAL</td><td>689</td></tr><tr><td>ILHA JOANA BEZERRA</td><td>COMERCIAL COM LIXO ORGANICO</td><td>16</td></tr><tr><td>ILHA JOANA BEZERRA</td><td>COMERCIAL SEM LIXO ORGANICO</td><td>8</td></tr><tr><td>IMBIRIBEIRA</td><td>RESIDENCIAL</td><td>11123</td></tr><tr><td>IMBIRIBEIRA</td><td>COMERCIAL COM LIXO ORGANICO</td><td>1699</td></tr><tr><td>IMBIRIBEIRA</td><td>COMERCIAL SEM LIXO ORGANICO</td><td>706</td></tr><tr><td>IPSEP</td><td>RESIDENCIAL</td><td>5781</td></tr><tr><td>IPSEP</td><td>COMERCIAL COM LIXO ORGANICO</td><td>655</td></tr><tr><td>IPSEP</td><td>COMERCIAL SEM LIXO ORGANICO</td><td>322</td></tr><tr><td>IPUTINGA</td><td>RESIDENCIAL</td><td>9241</td></tr><tr><td>IPUTINGA</td><td>COMERCIAL COM LIXO ORGANICO</td><td>777</td></tr><tr><td>IPUTINGA</td><td>COMERCIAL SEM LIXO ORGANICO</td><td>306</td></tr><tr><td>JAQUEIRA</td><td>RESIDENCIAL</td><td>626</td></tr><tr><td>JAQUEIRA</td><td>COMERCIAL COM LIXO ORGANICO</td><td>64</td></tr><tr><td>JAQUEIRA</td><td>COMERCIAL SEM LIXO ORGANICO</td><td>41</td></tr><tr><td>JARDIM SAO PAULO</td><td>RESIDENCIAL</td><td>6756</td></tr><tr><td>JARDIM SAO PAULO</td><td>COMERCIAL COM LIXO ORGANICO</td><td>472</td></tr><tr><td>JARDIM SAO PAULO</td><td>COMERCIAL SEM LIXO ORGANICO</td><td>230</td></tr><tr><td>JIQUIA</td><td>RESIDENCIAL</td><td>1175</td></tr><tr><td>JIQUIA</td><td>COMERCIAL COM LIXO ORGANICO</td><td>148</td></tr><tr><td>JIQUIA</td><td>COMERCIAL SEM LIXO ORGANICO</td><td>81</td></tr><tr><td>JORDAO</td><td>RESIDENCIAL</td><td>1967</td></tr><tr><td>JORDAO</td><td>COMERCIAL COM LIXO ORGANICO</td><td>237</td></tr><tr><td>JORDAO</td><td>COMERCIAL SEM LIXO ORGANICO</td><td>102</td></tr><tr><td>LINHA DO TIRO</td><td>RESIDENCIAL</td><td>1759</td></tr><tr><td>LINHA DO TIRO</td><td>COMERCIAL COM LIXO ORGANICO</td><td>69</td></tr><tr><td>LINHA DO TIRO</td><td>COMERCIAL SEM LIXO ORGANICO</td><td>22</td></tr><tr><td>MACAXEIRA</td><td>RESIDENCIAL</td><td>1683</td></tr><tr><td>MACAXEIRA</td><td>COMERCIAL COM LIXO ORGANICO</td><td>105</td></tr><tr><td>MACAXEIRA</td><td>COMERCIAL SEM LIXO ORGANICO</td><td>55</td></tr><tr><td>MADALENA</td><td>RESIDENCIAL</td><td>9864</td></tr><tr><td>MADALENA</td><td>COMERCIAL COM LIXO ORGANICO</td><td>1052</td></tr><tr><td>MADALENA</td><td>COMERCIAL SEM LIXO ORGANICO</td><td>441</td></tr><tr><td>MANGABEIRA</td><td>RESIDENCIAL</td><td>1233</td></tr><tr><td>MANGABEIRA</td><td>COMERCIAL COM LIXO ORGANICO</td><td>52</td></tr><tr><td>MANGABEIRA</td><td>COMERCIAL SEM LIXO ORGANICO</td><td>18</td></tr><tr><td>MANGUEIRA</td><td>RESIDENCIAL</td><td>1290</td></tr><tr><td>MANGUEIRA</td><td>COMERCIAL COM LIXO ORGANICO</td><td>92</td></tr><tr><td>MANGUEIRA</td><td>COMERCIAL SEM LIXO ORGANICO</td><td>41</td></tr><tr><td>MONTEIRO</td><td>RESIDENCIAL</td><td>1900</td></tr><tr><td>MONTEIRO</td><td>COMERCIAL COM LIXO ORGANICO</td><td>52</td></tr><tr><td>MONTEIRO</td><td>COMERCIAL SEM LIXO ORGANICO</td><td>16</td></tr><tr><td>MORRO DA CONCEICAO</td><td>RESIDENCIAL</td><td>1767</td></tr><tr><td>MORRO DA CONCEICAO</td><td>COMERCIAL COM LIXO ORGANICO</td><td>68</td></tr><tr><td>MORRO DA CONCEICAO</td><td>COMERCIAL SEM LIXO ORGANICO</td><td>17</td></tr><tr><td>MUSTARDINHA</td><td>RESIDENCIAL</td><td>2050</td></tr><tr><td>MUSTARDINHA</td><td>COMERCIAL COM LIXO ORGANICO</td><td>146</td></tr><tr><td>MUSTARDINHA</td><td>COMERCIAL SEM LIXO ORGANICO</td><td>58</td></tr><tr><td>NOVA DESCOBERTA</td><td>RESIDENCIAL</td><td>4069</td></tr><tr><td>NOVA DESCOBERTA</td><td>COMERCIAL COM LIXO ORGANICO</td><td>193</td></tr><tr><td>NOVA DESCOBERTA</td><td>COMERCIAL SEM LIXO ORGANICO</td><td>61</td></tr><tr><td>PAISSANDU</td><td>COMERCIAL SEM LIXO ORGANICO</td><td>657</td></tr><tr><td>PAISSANDU</td><td>COMERCIAL COM LIXO ORGANICO</td><td>537</td></tr><tr><td>PAISSANDU</td><td>RESIDENCIAL</td><td>355</td></tr><tr><td>PARNAMIRIM</td><td>RESIDENCIAL</td><td>2956</td></tr><tr><td>PARNAMIRIM</td><td>COMERCIAL COM LIXO ORGANICO</td><td>517</td></tr><tr><td>PARNAMIRIM</td><td>COMERCIAL SEM LIXO ORGANICO</td><td>182</td></tr><tr><td>PASSARINHO</td><td>RESIDENCIAL</td><td>293</td></tr><tr><td>PASSARINHO</td><td>COMERCIAL COM LIXO ORGANICO</td><td>46</td></tr><tr><td>PASSARINHO</td><td>COMERCIAL SEM LIXO ORGANICO</td><td>19</td></tr><tr><td>PEIXINHOS</td><td>COMERCIAL SEM LIXO ORGANICO</td><td>30</td></tr><tr><td>PEIXINHOS</td><td>RESIDENCIAL</td><td>16</td></tr><tr><td>PEIXINHOS</td><td>COMERCIAL COM LIXO ORGANICO</td><td>8</td></tr><tr><td>PINA</td><td>RESIDENCIAL</td><td>7669</td></tr><tr><td>PINA</td><td>COMERCIAL COM LIXO ORGANICO</td><td>2243</td></tr><tr><td>PINA</td><td>COMERCIAL SEM LIXO ORGANICO</td><td>1784</td></tr><tr><td>POCO</td><td>RESIDENCIAL</td><td>1839</td></tr><tr><td>POCO</td><td>COMERCIAL COM LIXO ORGANICO</td><td>316</td></tr><tr><td>POCO</td><td>COMERCIAL SEM LIXO ORGANICO</td><td>167</td></tr><tr><td>PONTO DE PARADA</td><td>RESIDENCIAL</td><td>614</td></tr><tr><td>PONTO DE PARADA</td><td>COMERCIAL COM LIXO ORGANICO</td><td>68</td></tr><tr><td>PONTO DE PARADA</td><td>COMERCIAL SEM LIXO ORGANICO</td><td>20</td></tr><tr><td>PORTO DA MADEIRA</td><td>RESIDENCIAL</td><td>1693</td></tr><tr><td>PORTO DA MADEIRA</td><td>COMERCIAL COM LIXO ORGANICO</td><td>78</td></tr><tr><td>PORTO DA MADEIRA</td><td>COMERCIAL SEM LIXO ORGANICO</td><td>25</td></tr><tr><td>PRADO</td><td>RESIDENCIAL</td><td>2625</td></tr><tr><td>PRADO</td><td>COMERCIAL COM LIXO ORGANICO</td><td>329</td></tr><tr><td>PRADO</td><td>COMERCIAL SEM LIXO ORGANICO</td><td>128</td></tr><tr><td>RECIFE</td><td>COMERCIAL SEM LIXO ORGANICO</td><td>406</td></tr><tr><td>RECIFE</td><td>COMERCIAL COM LIXO ORGANICO</td><td>367</td></tr><tr><td>RECIFE</td><td>RESIDENCIAL</td><td>10</td></tr><tr><td>ROSARINHO</td><td>RESIDENCIAL</td><td>3102</td></tr><tr><td>ROSARINHO</td><td>COMERCIAL COM LIXO ORGANICO</td><td>134</td></tr><tr><td>ROSARINHO</td><td>COMERCIAL SEM LIXO ORGANICO</td><td>61</td></tr><tr><td>SAN MARTIN</td><td>RESIDENCIAL</td><td>4656</td></tr><tr><td>SAN MARTIN</td><td>COMERCIAL COM LIXO ORGANICO</td><td>348</td></tr><tr><td>SAN MARTIN</td><td>COMERCIAL SEM LIXO ORGANICO</td><td>141</td></tr><tr><td>SANCHO</td><td>RESIDENCIAL</td><td>1357</td></tr><tr><td>SANCHO</td><td>COMERCIAL COM LIXO ORGANICO</td><td>53</td></tr><tr><td>SANCHO</td><td>COMERCIAL SEM LIXO ORGANICO</td><td>29</td></tr><tr><td>SANTANA</td><td>RESIDENCIAL</td><td>989</td></tr><tr><td>SANTANA</td><td>COMERCIAL COM LIXO ORGANICO</td><td>164</td></tr><tr><td>SANTANA</td><td>COMERCIAL SEM LIXO ORGANICO</td><td>65</td></tr><tr><td>SANTO AMARO</td><td>RESIDENCIAL</td><td>5875</td></tr><tr><td>SANTO AMARO</td><td>COMERCIAL COM LIXO ORGANICO</td><td>1451</td></tr><tr><td>SANTO AMARO</td><td>COMERCIAL SEM LIXO ORGANICO</td><td>832</td></tr><tr><td>SANTO ANTONIO</td><td>COMERCIAL SEM LIXO ORGANICO</td><td>3643</td></tr><tr><td>SANTO ANTONIO</td><td>COMERCIAL COM LIXO ORGANICO</td><td>1703</td></tr><tr><td>SANTO ANTONIO</td><td>RESIDENCIAL</td><td>148</td></tr><tr><td>SAO JOSE</td><td>RESIDENCIAL</td><td>1449</td></tr><tr><td>SAO JOSE</td><td>COMERCIAL COM LIXO ORGANICO</td><td>1228</td></tr><tr><td>SAO JOSE</td><td>COMERCIAL SEM LIXO ORGANICO</td><td>877</td></tr><tr><td>SITIO DOS PINTOS</td><td>RESIDENCIAL</td><td>149</td></tr><tr><td>SITIO DOS PINTOS</td><td>COMERCIAL COM LIXO ORGANICO</td><td>14</td></tr><tr><td>SITIO DOS PINTOS</td><td>COMERCIAL SEM LIXO ORGANICO</td><td>8</td></tr><tr><td>SOLEDADE</td><td>RESIDENCIAL</td><td>1569</td></tr><tr><td>SOLEDADE</td><td>COMERCIAL SEM LIXO ORGANICO</td><td>293</td></tr><tr><td>SOLEDADE</td><td>COMERCIAL COM LIXO ORGANICO</td><td>289</td></tr><tr><td>TAMARINEIRA</td><td>RESIDENCIAL</td><td>5546</td></tr><tr><td>TAMARINEIRA</td><td>COMERCIAL COM LIXO ORGANICO</td><td>478</td></tr><tr><td>TAMARINEIRA</td><td>COMERCIAL SEM LIXO ORGANICO</td><td>264</td></tr><tr><td>TEJIPIO</td><td>RESIDENCIAL</td><td>3143</td></tr><tr><td>TEJIPIO</td><td>COMERCIAL COM LIXO ORGANICO</td><td>143</td></tr><tr><td>TEJIPIO</td><td>COMERCIAL SEM LIXO ORGANICO</td><td>45</td></tr><tr><td>TORRE</td><td>RESIDENCIAL</td><td>7197</td></tr><tr><td>TORRE</td><td>COMERCIAL COM LIXO ORGANICO</td><td>313</td></tr><tr><td>TORRE</td><td>COMERCIAL SEM LIXO ORGANICO</td><td>116</td></tr><tr><td>TORREAO</td><td>RESIDENCIAL</td><td>617</td></tr><tr><td>TORREAO</td><td>COMERCIAL COM LIXO ORGANICO</td><td>121</td></tr><tr><td>TORREAO</td><td>COMERCIAL SEM LIXO ORGANICO</td><td>63</td></tr><tr><td>TORROES</td><td>RESIDENCIAL</td><td>1933</td></tr><tr><td>TORROES</td><td>COMERCIAL COM LIXO ORGANICO</td><td>191</td></tr><tr><td>TORROES</td><td>COMERCIAL SEM LIXO ORGANICO</td><td>117</td></tr><tr><td>TOTO</td><td>RESIDENCIAL</td><td>458</td></tr><tr><td>TOTO</td><td>COMERCIAL COM LIXO ORGANICO</td><td>36</td></tr><tr><td>TOTO</td><td>COMERCIAL SEM LIXO ORGANICO</td><td>10</td></tr><tr><td>VARZEA</td><td>RESIDENCIAL</td><td>13224</td></tr><tr><td>VARZEA</td><td>COMERCIAL COM LIXO ORGANICO</td><td>791</td></tr><tr><td>VARZEA</td><td>COMERCIAL SEM LIXO ORGANICO</td><td>417</td></tr><tr><td>VASCO DA GAMA</td><td>RESIDENCIAL</td><td>5122</td></tr><tr><td>VASCO DA GAMA</td><td>COMERCIAL COM LIXO ORGANICO</td><td>207</td></tr><tr><td>VASCO DA GAMA</td><td>COMERCIAL SEM LIXO ORGANICO</td><td>70</td></tr><tr><td>ZUMBI</td><td>RESIDENCIAL</td><td>1200</td></tr><tr><td>ZUMBI</td><td>COMERCIAL COM LIXO ORGANICO</td><td>199</td></tr><tr><td>ZUMBI</td><td>COMERCIAL SEM LIXO ORGANICO</td><td>104</td></tr></tbody></table></div>"
      ]
     },
     "metadata": {
      "application/vnd.databricks.v1+output": {
       "addedWidgets": {},
       "aggData": [],
       "aggError": "",
       "aggOverflow": false,
       "aggSchema": [],
       "aggSeriesLimitReached": false,
       "aggType": "",
       "arguments": {},
       "columnCustomDisplayInfos": {},
       "data": [
        [
         "AFLITOS",
         "RESIDENCIAL",
         2211
        ],
        [
         "AFLITOS",
         "COMERCIAL COM LIXO ORGANICO",
         274
        ],
        [
         "AFLITOS",
         "COMERCIAL SEM LIXO ORGANICO",
         147
        ],
        [
         "AFOGADOS",
         "RESIDENCIAL",
         6972
        ],
        [
         "AFOGADOS",
         "COMERCIAL COM LIXO ORGANICO",
         1018
        ],
        [
         "AFOGADOS",
         "COMERCIAL SEM LIXO ORGANICO",
         511
        ],
        [
         "AGUA FRIA",
         "RESIDENCIAL",
         7554
        ],
        [
         "AGUA FRIA",
         "COMERCIAL COM LIXO ORGANICO",
         440
        ],
        [
         "AGUA FRIA",
         "COMERCIAL SEM LIXO ORGANICO",
         164
        ],
        [
         "ALTO DO MANDU",
         "RESIDENCIAL",
         988
        ],
        [
         "ALTO DO MANDU",
         "COMERCIAL COM LIXO ORGANICO",
         82
        ],
        [
         "ALTO DO MANDU",
         "COMERCIAL SEM LIXO ORGANICO",
         20
        ],
        [
         "ALTO JOSE BONIFACIO",
         "RESIDENCIAL",
         1623
        ],
        [
         "ALTO JOSE BONIFACIO",
         "COMERCIAL COM LIXO ORGANICO",
         59
        ],
        [
         "ALTO JOSE BONIFACIO",
         "COMERCIAL SEM LIXO ORGANICO",
         19
        ],
        [
         "ALTO JOSE DO PINHO",
         "RESIDENCIAL",
         1785
        ],
        [
         "ALTO JOSE DO PINHO",
         "COMERCIAL COM LIXO ORGANICO",
         89
        ],
        [
         "ALTO JOSE DO PINHO",
         "COMERCIAL SEM LIXO ORGANICO",
         38
        ],
        [
         "ALTO SANTA TEREZINHA",
         "RESIDENCIAL",
         766
        ],
        [
         "ALTO SANTA TEREZINHA",
         "COMERCIAL COM LIXO ORGANICO",
         20
        ],
        [
         "ALTO SANTA TEREZINHA",
         "COMERCIAL SEM LIXO ORGANICO",
         3
        ],
        [
         "APIPUCOS",
         "RESIDENCIAL",
         298
        ],
        [
         "APIPUCOS",
         "COMERCIAL COM LIXO ORGANICO",
         29
        ],
        [
         "APIPUCOS",
         "COMERCIAL SEM LIXO ORGANICO",
         8
        ],
        [
         "AREIAS",
         "RESIDENCIAL",
         6382
        ],
        [
         "AREIAS",
         "COMERCIAL COM LIXO ORGANICO",
         503
        ],
        [
         "AREIAS",
         "COMERCIAL SEM LIXO ORGANICO",
         475
        ],
        [
         "ARRUDA",
         "RESIDENCIAL",
         3488
        ],
        [
         "ARRUDA",
         "COMERCIAL COM LIXO ORGANICO",
         233
        ],
        [
         "ARRUDA",
         "COMERCIAL SEM LIXO ORGANICO",
         102
        ],
        [
         "BARRO",
         "RESIDENCIAL",
         3555
        ],
        [
         "BARRO",
         "COMERCIAL COM LIXO ORGANICO",
         212
        ],
        [
         "BARRO",
         "COMERCIAL SEM LIXO ORGANICO",
         126
        ],
        [
         "BEBERIBE",
         "RESIDENCIAL",
         1283
        ],
        [
         "BEBERIBE",
         "COMERCIAL COM LIXO ORGANICO",
         133
        ],
        [
         "BEBERIBE",
         "COMERCIAL SEM LIXO ORGANICO",
         78
        ],
        [
         "BOA VIAGEM",
         "RESIDENCIAL",
         57061
        ],
        [
         "BOA VIAGEM",
         "COMERCIAL COM LIXO ORGANICO",
         6515
        ],
        [
         "BOA VIAGEM",
         "COMERCIAL SEM LIXO ORGANICO",
         3990
        ],
        [
         "BOA VISTA",
         "RESIDENCIAL",
         8000
        ],
        [
         "BOA VISTA",
         "COMERCIAL SEM LIXO ORGANICO",
         3219
        ],
        [
         "BOA VISTA",
         "COMERCIAL COM LIXO ORGANICO",
         2450
        ],
        [
         "BOMBA DO HEMETERIO",
         "RESIDENCIAL",
         1445
        ],
        [
         "BOMBA DO HEMETERIO",
         "COMERCIAL COM LIXO ORGANICO",
         110
        ],
        [
         "BOMBA DO HEMETERIO",
         "COMERCIAL SEM LIXO ORGANICO",
         26
        ],
        [
         "BONGI",
         "RESIDENCIAL",
         1356
        ],
        [
         "BONGI",
         "COMERCIAL COM LIXO ORGANICO",
         124
        ],
        [
         "BONGI",
         "COMERCIAL SEM LIXO ORGANICO",
         56
        ],
        [
         "BRASILIA TEIMOSA",
         "RESIDENCIAL",
         2758
        ],
        [
         "BRASILIA TEIMOSA",
         "COMERCIAL COM LIXO ORGANICO",
         173
        ],
        [
         "BRASILIA TEIMOSA",
         "COMERCIAL SEM LIXO ORGANICO",
         60
        ],
        [
         "BREJO DA GUABIRABA",
         "RESIDENCIAL",
         607
        ],
        [
         "BREJO DA GUABIRABA",
         "COMERCIAL COM LIXO ORGANICO",
         61
        ],
        [
         "BREJO DA GUABIRABA",
         "COMERCIAL SEM LIXO ORGANICO",
         18
        ],
        [
         "BREJO DE BEBERIBE",
         "RESIDENCIAL",
         629
        ],
        [
         "BREJO DE BEBERIBE",
         "COMERCIAL COM LIXO ORGANICO",
         56
        ],
        [
         "BREJO DE BEBERIBE",
         "COMERCIAL SEM LIXO ORGANICO",
         19
        ],
        [
         "CABANGA",
         "RESIDENCIAL",
         339
        ],
        [
         "CABANGA",
         "COMERCIAL COM LIXO ORGANICO",
         44
        ],
        [
         "CABANGA",
         "COMERCIAL SEM LIXO ORGANICO",
         11
        ],
        [
         "CACOTE",
         "RESIDENCIAL",
         594
        ],
        [
         "CACOTE",
         "COMERCIAL COM LIXO ORGANICO",
         39
        ],
        [
         "CACOTE",
         "COMERCIAL SEM LIXO ORGANICO",
         9
        ],
        [
         "CAJUEIRO",
         "RESIDENCIAL",
         1421
        ],
        [
         "CAJUEIRO",
         "COMERCIAL COM LIXO ORGANICO",
         108
        ],
        [
         "CAJUEIRO",
         "COMERCIAL SEM LIXO ORGANICO",
         51
        ],
        [
         "CAMPINA DO BARRETO",
         "RESIDENCIAL",
         1216
        ],
        [
         "CAMPINA DO BARRETO",
         "COMERCIAL SEM LIXO ORGANICO",
         257
        ],
        [
         "CAMPINA DO BARRETO",
         "COMERCIAL COM LIXO ORGANICO",
         65
        ],
        [
         "CAMPO GRANDE",
         "RESIDENCIAL",
         5728
        ],
        [
         "CAMPO GRANDE",
         "COMERCIAL COM LIXO ORGANICO",
         442
        ],
        [
         "CAMPO GRANDE",
         "COMERCIAL SEM LIXO ORGANICO",
         188
        ],
        [
         "CASA AMARELA",
         "RESIDENCIAL",
         11665
        ],
        [
         "CASA AMARELA",
         "COMERCIAL COM LIXO ORGANICO",
         1149
        ],
        [
         "CASA AMARELA",
         "COMERCIAL SEM LIXO ORGANICO",
         651
        ],
        [
         "CASA FORTE",
         "RESIDENCIAL",
         2586
        ],
        [
         "CASA FORTE",
         "COMERCIAL COM LIXO ORGANICO",
         346
        ],
        [
         "CASA FORTE",
         "COMERCIAL SEM LIXO ORGANICO",
         179
        ],
        [
         "CAXANGA",
         "RESIDENCIAL",
         2208
        ],
        [
         "CAXANGA",
         "COMERCIAL COM LIXO ORGANICO",
         126
        ],
        [
         "CAXANGA",
         "COMERCIAL SEM LIXO ORGANICO",
         74
        ],
        [
         "CIDADE UNIVERSITARIA",
         "RESIDENCIAL",
         17
        ],
        [
         "CIDADE UNIVERSITARIA",
         "COMERCIAL COM LIXO ORGANICO",
         3
        ],
        [
         "COELHOS",
         "RESIDENCIAL",
         459
        ],
        [
         "COELHOS",
         "COMERCIAL SEM LIXO ORGANICO",
         340
        ],
        [
         "COELHOS",
         "COMERCIAL COM LIXO ORGANICO",
         304
        ],
        [
         "COHAB",
         "RESIDENCIAL",
         6831
        ],
        [
         "COHAB",
         "COMERCIAL COM LIXO ORGANICO",
         378
        ],
        [
         "COHAB",
         "COMERCIAL SEM LIXO ORGANICO",
         192
        ],
        [
         "COQUEIRAL",
         "RESIDENCIAL",
         2159
        ],
        [
         "COQUEIRAL",
         "COMERCIAL COM LIXO ORGANICO",
         75
        ],
        [
         "COQUEIRAL",
         "COMERCIAL SEM LIXO ORGANICO",
         38
        ],
        [
         "CORDEIRO",
         "RESIDENCIAL",
         10242
        ],
        [
         "CORDEIRO",
         "COMERCIAL COM LIXO ORGANICO",
         864
        ],
        [
         "CORDEIRO",
         "COMERCIAL SEM LIXO ORGANICO",
         482
        ],
        [
         "CORREGO DO JENIPAPO",
         "RESIDENCIAL",
         613
        ],
        [
         "CORREGO DO JENIPAPO",
         "COMERCIAL COM LIXO ORGANICO",
         36
        ],
        [
         "CORREGO DO JENIPAPO",
         "COMERCIAL SEM LIXO ORGANICO",
         9
        ],
        [
         "CURADO",
         "RESIDENCIAL",
         1440
        ],
        [
         "CURADO",
         "COMERCIAL COM LIXO ORGANICO",
         120
        ],
        [
         "CURADO",
         "COMERCIAL SEM LIXO ORGANICO",
         48
        ],
        [
         "DERBY",
         "RESIDENCIAL",
         826
        ],
        [
         "DERBY",
         "COMERCIAL COM LIXO ORGANICO",
         220
        ],
        [
         "DERBY",
         "COMERCIAL SEM LIXO ORGANICO",
         122
        ],
        [
         "DOIS IRMAOS",
         "RESIDENCIAL",
         48
        ],
        [
         "DOIS IRMAOS",
         "COMERCIAL COM LIXO ORGANICO",
         20
        ],
        [
         "DOIS IRMAOS",
         "COMERCIAL SEM LIXO ORGANICO",
         12
        ],
        [
         "DOIS UNIDOS",
         "RESIDENCIAL",
         1528
        ],
        [
         "DOIS UNIDOS",
         "COMERCIAL COM LIXO ORGANICO",
         98
        ],
        [
         "DOIS UNIDOS",
         "COMERCIAL SEM LIXO ORGANICO",
         40
        ],
        [
         "ENCRUZILHADA",
         "RESIDENCIAL",
         6619
        ],
        [
         "ENCRUZILHADA",
         "COMERCIAL COM LIXO ORGANICO",
         543
        ],
        [
         "ENCRUZILHADA",
         "COMERCIAL SEM LIXO ORGANICO",
         496
        ],
        [
         "ENGENHO DO MEIO",
         "RESIDENCIAL",
         2561
        ],
        [
         "ENGENHO DO MEIO",
         "COMERCIAL COM LIXO ORGANICO",
         166
        ],
        [
         "ENGENHO DO MEIO",
         "COMERCIAL SEM LIXO ORGANICO",
         86
        ],
        [
         "ESPINHEIRO",
         "RESIDENCIAL",
         4877
        ],
        [
         "ESPINHEIRO",
         "COMERCIAL COM LIXO ORGANICO",
         909
        ],
        [
         "ESPINHEIRO",
         "COMERCIAL SEM LIXO ORGANICO",
         557
        ],
        [
         "ESTANCIA",
         "RESIDENCIAL",
         1343
        ],
        [
         "ESTANCIA",
         "COMERCIAL COM LIXO ORGANICO",
         199
        ],
        [
         "ESTANCIA",
         "COMERCIAL SEM LIXO ORGANICO",
         104
        ],
        [
         "FUNDAO",
         "RESIDENCIAL",
         1633
        ],
        [
         "FUNDAO",
         "COMERCIAL COM LIXO ORGANICO",
         82
        ],
        [
         "FUNDAO",
         "COMERCIAL SEM LIXO ORGANICO",
         69
        ],
        [
         "GRACAS",
         "RESIDENCIAL",
         9208
        ],
        [
         "GRACAS",
         "COMERCIAL COM LIXO ORGANICO",
         1163
        ],
        [
         "GRACAS",
         "COMERCIAL SEM LIXO ORGANICO",
         698
        ],
        [
         "GUABIRABA",
         "RESIDENCIAL",
         465
        ],
        [
         "GUABIRABA",
         "COMERCIAL COM LIXO ORGANICO",
         53
        ],
        [
         "GUABIRABA",
         "COMERCIAL SEM LIXO ORGANICO",
         15
        ],
        [
         "HIPODROMO",
         "RESIDENCIAL",
         810
        ],
        [
         "HIPODROMO",
         "COMERCIAL COM LIXO ORGANICO",
         77
        ],
        [
         "HIPODROMO",
         "COMERCIAL SEM LIXO ORGANICO",
         25
        ],
        [
         "IBURA",
         "RESIDENCIAL",
         5265
        ],
        [
         "IBURA",
         "COMERCIAL COM LIXO ORGANICO",
         624
        ],
        [
         "IBURA",
         "COMERCIAL SEM LIXO ORGANICO",
         322
        ],
        [
         "ILHA DO LEITE",
         "COMERCIAL COM LIXO ORGANICO",
         840
        ],
        [
         "ILHA DO LEITE",
         "COMERCIAL SEM LIXO ORGANICO",
         772
        ],
        [
         "ILHA DO LEITE",
         "RESIDENCIAL",
         730
        ],
        [
         "ILHA DO RETIRO",
         "RESIDENCIAL",
         1191
        ],
        [
         "ILHA DO RETIRO",
         "COMERCIAL COM LIXO ORGANICO",
         138
        ],
        [
         "ILHA DO RETIRO",
         "COMERCIAL SEM LIXO ORGANICO",
         55
        ],
        [
         "ILHA JOANA BEZERRA",
         "RESIDENCIAL",
         689
        ],
        [
         "ILHA JOANA BEZERRA",
         "COMERCIAL COM LIXO ORGANICO",
         16
        ],
        [
         "ILHA JOANA BEZERRA",
         "COMERCIAL SEM LIXO ORGANICO",
         8
        ],
        [
         "IMBIRIBEIRA",
         "RESIDENCIAL",
         11123
        ],
        [
         "IMBIRIBEIRA",
         "COMERCIAL COM LIXO ORGANICO",
         1699
        ],
        [
         "IMBIRIBEIRA",
         "COMERCIAL SEM LIXO ORGANICO",
         706
        ],
        [
         "IPSEP",
         "RESIDENCIAL",
         5781
        ],
        [
         "IPSEP",
         "COMERCIAL COM LIXO ORGANICO",
         655
        ],
        [
         "IPSEP",
         "COMERCIAL SEM LIXO ORGANICO",
         322
        ],
        [
         "IPUTINGA",
         "RESIDENCIAL",
         9241
        ],
        [
         "IPUTINGA",
         "COMERCIAL COM LIXO ORGANICO",
         777
        ],
        [
         "IPUTINGA",
         "COMERCIAL SEM LIXO ORGANICO",
         306
        ],
        [
         "JAQUEIRA",
         "RESIDENCIAL",
         626
        ],
        [
         "JAQUEIRA",
         "COMERCIAL COM LIXO ORGANICO",
         64
        ],
        [
         "JAQUEIRA",
         "COMERCIAL SEM LIXO ORGANICO",
         41
        ],
        [
         "JARDIM SAO PAULO",
         "RESIDENCIAL",
         6756
        ],
        [
         "JARDIM SAO PAULO",
         "COMERCIAL COM LIXO ORGANICO",
         472
        ],
        [
         "JARDIM SAO PAULO",
         "COMERCIAL SEM LIXO ORGANICO",
         230
        ],
        [
         "JIQUIA",
         "RESIDENCIAL",
         1175
        ],
        [
         "JIQUIA",
         "COMERCIAL COM LIXO ORGANICO",
         148
        ],
        [
         "JIQUIA",
         "COMERCIAL SEM LIXO ORGANICO",
         81
        ],
        [
         "JORDAO",
         "RESIDENCIAL",
         1967
        ],
        [
         "JORDAO",
         "COMERCIAL COM LIXO ORGANICO",
         237
        ],
        [
         "JORDAO",
         "COMERCIAL SEM LIXO ORGANICO",
         102
        ],
        [
         "LINHA DO TIRO",
         "RESIDENCIAL",
         1759
        ],
        [
         "LINHA DO TIRO",
         "COMERCIAL COM LIXO ORGANICO",
         69
        ],
        [
         "LINHA DO TIRO",
         "COMERCIAL SEM LIXO ORGANICO",
         22
        ],
        [
         "MACAXEIRA",
         "RESIDENCIAL",
         1683
        ],
        [
         "MACAXEIRA",
         "COMERCIAL COM LIXO ORGANICO",
         105
        ],
        [
         "MACAXEIRA",
         "COMERCIAL SEM LIXO ORGANICO",
         55
        ],
        [
         "MADALENA",
         "RESIDENCIAL",
         9864
        ],
        [
         "MADALENA",
         "COMERCIAL COM LIXO ORGANICO",
         1052
        ],
        [
         "MADALENA",
         "COMERCIAL SEM LIXO ORGANICO",
         441
        ],
        [
         "MANGABEIRA",
         "RESIDENCIAL",
         1233
        ],
        [
         "MANGABEIRA",
         "COMERCIAL COM LIXO ORGANICO",
         52
        ],
        [
         "MANGABEIRA",
         "COMERCIAL SEM LIXO ORGANICO",
         18
        ],
        [
         "MANGUEIRA",
         "RESIDENCIAL",
         1290
        ],
        [
         "MANGUEIRA",
         "COMERCIAL COM LIXO ORGANICO",
         92
        ],
        [
         "MANGUEIRA",
         "COMERCIAL SEM LIXO ORGANICO",
         41
        ],
        [
         "MONTEIRO",
         "RESIDENCIAL",
         1900
        ],
        [
         "MONTEIRO",
         "COMERCIAL COM LIXO ORGANICO",
         52
        ],
        [
         "MONTEIRO",
         "COMERCIAL SEM LIXO ORGANICO",
         16
        ],
        [
         "MORRO DA CONCEICAO",
         "RESIDENCIAL",
         1767
        ],
        [
         "MORRO DA CONCEICAO",
         "COMERCIAL COM LIXO ORGANICO",
         68
        ],
        [
         "MORRO DA CONCEICAO",
         "COMERCIAL SEM LIXO ORGANICO",
         17
        ],
        [
         "MUSTARDINHA",
         "RESIDENCIAL",
         2050
        ],
        [
         "MUSTARDINHA",
         "COMERCIAL COM LIXO ORGANICO",
         146
        ],
        [
         "MUSTARDINHA",
         "COMERCIAL SEM LIXO ORGANICO",
         58
        ],
        [
         "NOVA DESCOBERTA",
         "RESIDENCIAL",
         4069
        ],
        [
         "NOVA DESCOBERTA",
         "COMERCIAL COM LIXO ORGANICO",
         193
        ],
        [
         "NOVA DESCOBERTA",
         "COMERCIAL SEM LIXO ORGANICO",
         61
        ],
        [
         "PAISSANDU",
         "COMERCIAL SEM LIXO ORGANICO",
         657
        ],
        [
         "PAISSANDU",
         "COMERCIAL COM LIXO ORGANICO",
         537
        ],
        [
         "PAISSANDU",
         "RESIDENCIAL",
         355
        ],
        [
         "PARNAMIRIM",
         "RESIDENCIAL",
         2956
        ],
        [
         "PARNAMIRIM",
         "COMERCIAL COM LIXO ORGANICO",
         517
        ],
        [
         "PARNAMIRIM",
         "COMERCIAL SEM LIXO ORGANICO",
         182
        ],
        [
         "PASSARINHO",
         "RESIDENCIAL",
         293
        ],
        [
         "PASSARINHO",
         "COMERCIAL COM LIXO ORGANICO",
         46
        ],
        [
         "PASSARINHO",
         "COMERCIAL SEM LIXO ORGANICO",
         19
        ],
        [
         "PEIXINHOS",
         "COMERCIAL SEM LIXO ORGANICO",
         30
        ],
        [
         "PEIXINHOS",
         "RESIDENCIAL",
         16
        ],
        [
         "PEIXINHOS",
         "COMERCIAL COM LIXO ORGANICO",
         8
        ],
        [
         "PINA",
         "RESIDENCIAL",
         7669
        ],
        [
         "PINA",
         "COMERCIAL COM LIXO ORGANICO",
         2243
        ],
        [
         "PINA",
         "COMERCIAL SEM LIXO ORGANICO",
         1784
        ],
        [
         "POCO",
         "RESIDENCIAL",
         1839
        ],
        [
         "POCO",
         "COMERCIAL COM LIXO ORGANICO",
         316
        ],
        [
         "POCO",
         "COMERCIAL SEM LIXO ORGANICO",
         167
        ],
        [
         "PONTO DE PARADA",
         "RESIDENCIAL",
         614
        ],
        [
         "PONTO DE PARADA",
         "COMERCIAL COM LIXO ORGANICO",
         68
        ],
        [
         "PONTO DE PARADA",
         "COMERCIAL SEM LIXO ORGANICO",
         20
        ],
        [
         "PORTO DA MADEIRA",
         "RESIDENCIAL",
         1693
        ],
        [
         "PORTO DA MADEIRA",
         "COMERCIAL COM LIXO ORGANICO",
         78
        ],
        [
         "PORTO DA MADEIRA",
         "COMERCIAL SEM LIXO ORGANICO",
         25
        ],
        [
         "PRADO",
         "RESIDENCIAL",
         2625
        ],
        [
         "PRADO",
         "COMERCIAL COM LIXO ORGANICO",
         329
        ],
        [
         "PRADO",
         "COMERCIAL SEM LIXO ORGANICO",
         128
        ],
        [
         "RECIFE",
         "COMERCIAL SEM LIXO ORGANICO",
         406
        ],
        [
         "RECIFE",
         "COMERCIAL COM LIXO ORGANICO",
         367
        ],
        [
         "RECIFE",
         "RESIDENCIAL",
         10
        ],
        [
         "ROSARINHO",
         "RESIDENCIAL",
         3102
        ],
        [
         "ROSARINHO",
         "COMERCIAL COM LIXO ORGANICO",
         134
        ],
        [
         "ROSARINHO",
         "COMERCIAL SEM LIXO ORGANICO",
         61
        ],
        [
         "SAN MARTIN",
         "RESIDENCIAL",
         4656
        ],
        [
         "SAN MARTIN",
         "COMERCIAL COM LIXO ORGANICO",
         348
        ],
        [
         "SAN MARTIN",
         "COMERCIAL SEM LIXO ORGANICO",
         141
        ],
        [
         "SANCHO",
         "RESIDENCIAL",
         1357
        ],
        [
         "SANCHO",
         "COMERCIAL COM LIXO ORGANICO",
         53
        ],
        [
         "SANCHO",
         "COMERCIAL SEM LIXO ORGANICO",
         29
        ],
        [
         "SANTANA",
         "RESIDENCIAL",
         989
        ],
        [
         "SANTANA",
         "COMERCIAL COM LIXO ORGANICO",
         164
        ],
        [
         "SANTANA",
         "COMERCIAL SEM LIXO ORGANICO",
         65
        ],
        [
         "SANTO AMARO",
         "RESIDENCIAL",
         5875
        ],
        [
         "SANTO AMARO",
         "COMERCIAL COM LIXO ORGANICO",
         1451
        ],
        [
         "SANTO AMARO",
         "COMERCIAL SEM LIXO ORGANICO",
         832
        ],
        [
         "SANTO ANTONIO",
         "COMERCIAL SEM LIXO ORGANICO",
         3643
        ],
        [
         "SANTO ANTONIO",
         "COMERCIAL COM LIXO ORGANICO",
         1703
        ],
        [
         "SANTO ANTONIO",
         "RESIDENCIAL",
         148
        ],
        [
         "SAO JOSE",
         "RESIDENCIAL",
         1449
        ],
        [
         "SAO JOSE",
         "COMERCIAL COM LIXO ORGANICO",
         1228
        ],
        [
         "SAO JOSE",
         "COMERCIAL SEM LIXO ORGANICO",
         877
        ],
        [
         "SITIO DOS PINTOS",
         "RESIDENCIAL",
         149
        ],
        [
         "SITIO DOS PINTOS",
         "COMERCIAL COM LIXO ORGANICO",
         14
        ],
        [
         "SITIO DOS PINTOS",
         "COMERCIAL SEM LIXO ORGANICO",
         8
        ],
        [
         "SOLEDADE",
         "RESIDENCIAL",
         1569
        ],
        [
         "SOLEDADE",
         "COMERCIAL SEM LIXO ORGANICO",
         293
        ],
        [
         "SOLEDADE",
         "COMERCIAL COM LIXO ORGANICO",
         289
        ],
        [
         "TAMARINEIRA",
         "RESIDENCIAL",
         5546
        ],
        [
         "TAMARINEIRA",
         "COMERCIAL COM LIXO ORGANICO",
         478
        ],
        [
         "TAMARINEIRA",
         "COMERCIAL SEM LIXO ORGANICO",
         264
        ],
        [
         "TEJIPIO",
         "RESIDENCIAL",
         3143
        ],
        [
         "TEJIPIO",
         "COMERCIAL COM LIXO ORGANICO",
         143
        ],
        [
         "TEJIPIO",
         "COMERCIAL SEM LIXO ORGANICO",
         45
        ],
        [
         "TORRE",
         "RESIDENCIAL",
         7197
        ],
        [
         "TORRE",
         "COMERCIAL COM LIXO ORGANICO",
         313
        ],
        [
         "TORRE",
         "COMERCIAL SEM LIXO ORGANICO",
         116
        ],
        [
         "TORREAO",
         "RESIDENCIAL",
         617
        ],
        [
         "TORREAO",
         "COMERCIAL COM LIXO ORGANICO",
         121
        ],
        [
         "TORREAO",
         "COMERCIAL SEM LIXO ORGANICO",
         63
        ],
        [
         "TORROES",
         "RESIDENCIAL",
         1933
        ],
        [
         "TORROES",
         "COMERCIAL COM LIXO ORGANICO",
         191
        ],
        [
         "TORROES",
         "COMERCIAL SEM LIXO ORGANICO",
         117
        ],
        [
         "TOTO",
         "RESIDENCIAL",
         458
        ],
        [
         "TOTO",
         "COMERCIAL COM LIXO ORGANICO",
         36
        ],
        [
         "TOTO",
         "COMERCIAL SEM LIXO ORGANICO",
         10
        ],
        [
         "VARZEA",
         "RESIDENCIAL",
         13224
        ],
        [
         "VARZEA",
         "COMERCIAL COM LIXO ORGANICO",
         791
        ],
        [
         "VARZEA",
         "COMERCIAL SEM LIXO ORGANICO",
         417
        ],
        [
         "VASCO DA GAMA",
         "RESIDENCIAL",
         5122
        ],
        [
         "VASCO DA GAMA",
         "COMERCIAL COM LIXO ORGANICO",
         207
        ],
        [
         "VASCO DA GAMA",
         "COMERCIAL SEM LIXO ORGANICO",
         70
        ],
        [
         "ZUMBI",
         "RESIDENCIAL",
         1200
        ],
        [
         "ZUMBI",
         "COMERCIAL COM LIXO ORGANICO",
         199
        ],
        [
         "ZUMBI",
         "COMERCIAL SEM LIXO ORGANICO",
         104
        ]
       ],
       "datasetInfos": [],
       "dbfsResultPath": null,
       "isJsonSchema": true,
       "metadata": {},
       "overflow": false,
       "plotOptions": {
        "customPlotOptions": {},
        "displayType": "table",
        "pivotAggregation": null,
        "pivotColumns": null,
        "xColumns": null,
        "yColumns": null
       },
       "removedWidgets": [],
       "schema": [
        {
         "metadata": "{}",
         "name": "BAIRRO",
         "type": "\"string\""
        },
        {
         "metadata": "{}",
         "name": "TIPO_DE_USO_DO_IMOVEL",
         "type": "\"string\""
        },
        {
         "metadata": "{}",
         "name": "QUANTIDADE",
         "type": "\"long\""
        }
       ],
       "type": "table"
      }
     },
     "output_type": "display_data"
    }
   ],
   "source": [
    "distribuicao_bairro_tipo_uso = df_imoveis_unicos.select(*colunas_identificacao, \"TIPO_DE_USO_DO_IMOVEL\")\\\n",
    "    .groupBy(\"BAIRRO\", \"TIPO_DE_USO_DO_IMOVEL\").count()\\\n",
    "    .withColumnRenamed('count', 'QUANTIDADE')\\\n",
    "    .orderBy(col(\"BAIRRO\").asc(), col(\"QUANTIDADE\").desc())\n",
    "\n",
    "distribuicao_bairro_tipo_uso.display()"
   ]
  },
  {
   "cell_type": "markdown",
   "metadata": {
    "application/vnd.databricks.v1+cell": {
     "cellMetadata": {
      "byteLimit": 2048000,
      "rowLimit": 10000
     },
     "inputWidgets": {},
     "nuid": "d4ff0687-50ba-4a0d-a4c7-d27bdef401d5",
     "showTitle": false,
     "tableResultSettingsMap": {},
     "title": ""
    }
   },
   "source": [
    "## Como os imóveis estão distribuídos por tipo de estrutura?\n",
    "\n",
    "Observe no gráfico abaixo que as construções de concreto aparecem em maior quantidade, seguido das de alvenaria."
   ]
  },
  {
   "cell_type": "code",
   "execution_count": 0,
   "metadata": {
    "application/vnd.databricks.v1+cell": {
     "cellMetadata": {
      "byteLimit": 2048000,
      "rowLimit": 10000
     },
     "inputWidgets": {},
     "nuid": "66a10142-15eb-48e1-ba97-438a53ff0885",
     "showTitle": false,
     "tableResultSettingsMap": {},
     "title": ""
    }
   },
   "outputs": [
    {
     "output_type": "display_data",
     "data": {
      "image/png": "[encoded data removed]",
      "text/plain": [
       "<Figure size 600x300 with 1 Axes>"
      ]
     },
     "metadata": {},
     "output_type": "display_data"
    },
    {
     "output_type": "display_data",
     "data": {
      "text/html": [
       "<style scoped>\n",
       "  .table-result-container {\n",
       "    max-height: 300px;\n",
       "    overflow: auto;\n",
       "  }\n",
       "  table, th, td {\n",
       "    border: 1px solid black;\n",
       "    border-collapse: collapse;\n",
       "  }\n",
       "  th, td {\n",
       "    padding: 5px;\n",
       "  }\n",
       "  th {\n",
       "    text-align: left;\n",
       "  }\n",
       "</style><div class='table-result-container'><table class='table-result'><thead style='background-color: white'><tr><th>TIPO_DE_ESTRUTURA</th><th>QUANTIDADE</th></tr></thead><tbody><tr><td>Concreto</td><td>232131</td></tr><tr><td>Alvenaria</td><td>145166</td></tr><tr><td>Taipa/adobe</td><td>22816</td></tr><tr><td>Outros</td><td>207</td></tr></tbody></table></div>"
      ]
     },
     "metadata": {
      "application/vnd.databricks.v1+output": {
       "addedWidgets": {},
       "aggData": [],
       "aggError": "",
       "aggOverflow": false,
       "aggSchema": [],
       "aggSeriesLimitReached": false,
       "aggType": "",
       "arguments": {},
       "columnCustomDisplayInfos": {},
       "data": [
        [
         "Concreto",
         232131
        ],
        [
         "Alvenaria",
         145166
        ],
        [
         "Taipa/adobe",
         22816
        ],
        [
         "Outros",
         207
        ]
       ],
       "datasetInfos": [],
       "dbfsResultPath": null,
       "isJsonSchema": true,
       "metadata": {},
       "overflow": false,
       "plotOptions": {
        "customPlotOptions": {},
        "displayType": "table",
        "pivotAggregation": null,
        "pivotColumns": null,
        "xColumns": null,
        "yColumns": null
       },
       "removedWidgets": [],
       "schema": [
        {
         "metadata": "{}",
         "name": "TIPO_DE_ESTRUTURA",
         "type": "\"string\""
        },
        {
         "metadata": "{}",
         "name": "QUANTIDADE",
         "type": "\"long\""
        }
       ],
       "type": "table"
      }
     },
     "output_type": "display_data"
    }
   ],
   "source": [
    "tipo_estrutura = df_imoveis_unicos.select(*colunas_identificacao, \"TIPO_DE_ESTRUTURA\")\\\n",
    "    .groupBy(\"TIPO_DE_ESTRUTURA\").count().withColumnRenamed('count', 'QUANTIDADE').orderBy(\"QUANTIDADE\", ascending=False)\n",
    "\n",
    "# Coletar os dados do Spark DataFrame\n",
    "dados = tipo_estrutura.select(\"TIPO_DE_ESTRUTURA\", \"QUANTIDADE\").orderBy('QUANTIDADE').collect()\n",
    "\n",
    "# Transformar em listas nativas\n",
    "tipos = [f\"{linha['TIPO_DE_ESTRUTURA']}\" for linha in dados]\n",
    "tipos = [palavra.capitalize() for palavra in tipos]\n",
    "quantidades = [linha[\"QUANTIDADE\"] for linha in dados]\n",
    "\n",
    "plotar_grafico_barra(tipos, quantidades, 'horizontal', 'Distribuição dos Tipos de Estruturas dos Imóveis', 'Tipos de Estrutura', 'Quantidade')\n",
    "\n",
    "tipo_estrutura.display()"
   ]
  },
  {
   "cell_type": "markdown",
   "metadata": {
    "application/vnd.databricks.v1+cell": {
     "cellMetadata": {
      "byteLimit": 2048000,
      "rowLimit": 10000
     },
     "inputWidgets": {},
     "nuid": "7acf81cc-d3ff-428a-804c-ce83fa9a0781",
     "showTitle": false,
     "tableResultSettingsMap": {},
     "title": ""
    }
   },
   "source": [
    "## Quais são os principais tipos de imóveis?\n",
    "\n",
    "Veja no gráfico abaixo que os apartamentos dominam entre os tipos de imóveis, seguidos das casas e lojas comerciais."
   ]
  },
  {
   "cell_type": "code",
   "execution_count": 0,
   "metadata": {
    "application/vnd.databricks.v1+cell": {
     "cellMetadata": {
      "byteLimit": 2048000,
      "rowLimit": 10000
     },
     "inputWidgets": {},
     "nuid": "d8187a32-0a31-4102-bbc7-8954c39776c5",
     "showTitle": false,
     "tableResultSettingsMap": {},
     "title": ""
    }
   },
   "outputs": [
    {
     "output_type": "display_data",
     "data": {
      "image/png": "[encoded data removed]",
      "text/plain": [
       "<Figure size 600x300 with 1 Axes>"
      ]
     },
     "metadata": {},
     "output_type": "display_data"
    }
   ],
   "source": [
    "# Agrupa por bairro e conta quantos registros únicos há em cada um\n",
    "tipo_empreendimento = df_imoveis_unicos.groupBy(\"TIPO_DE_EMPREENDIMENTO\").count().withColumnRenamed('count', 'QUANTIDADE').orderBy(\"count\", ascending=False)\n",
    "\n",
    "# Coletar os dados do Spark DataFrame\n",
    "dados = tipo_empreendimento.select(\"TIPO_DE_EMPREENDIMENTO\", \"QUANTIDADE\").orderBy('QUANTIDADE').collect()\n",
    "\n",
    "# Transformar em listas nativas\n",
    "tipos = [f\"{linha['TIPO_DE_EMPREENDIMENTO']}\" for linha in dados]\n",
    "tipos = [palavra.capitalize() for palavra in tipos]\n",
    "quantidades = [linha[\"QUANTIDADE\"] for linha in dados]\n",
    "\n",
    "plotar_grafico_barra(tipos, quantidades, 'horizontal', 'Distribuição dos Tipos dos Imóveis', 'Tipos de Empreendimento', 'Quantidade')"
   ]
  },
  {
   "cell_type": "markdown",
   "metadata": {
    "application/vnd.databricks.v1+cell": {
     "cellMetadata": {
      "byteLimit": 2048000,
      "rowLimit": 10000
     },
     "inputWidgets": {},
     "nuid": "ef8565ec-921a-4081-844a-074e8cfbd095",
     "showTitle": false,
     "tableResultSettingsMap": {},
     "title": ""
    }
   },
   "source": [
    "## Como o inventário está distribuído em termos de idade de construção?\n",
    "\n",
    "Para realizar esta análise, foram criadas faixas etárias dos imóveis dividindo-o em grupos. Diante disso, percebemos que temos mais imóveis na deixa entre 41-60 anos, seguido da faixa entre 21-40 anos."
   ]
  },
  {
   "cell_type": "code",
   "execution_count": 0,
   "metadata": {
    "application/vnd.databricks.v1+cell": {
     "cellMetadata": {
      "byteLimit": 2048000,
      "rowLimit": 10000
     },
     "inputWidgets": {},
     "nuid": "0859fb2a-3494-43e5-af8e-82727b5e593e",
     "showTitle": false,
     "tableResultSettingsMap": {},
     "title": ""
    }
   },
   "outputs": [
    {
     "output_type": "display_data",
     "data": {
      "image/png": "[encoded data removed]",
      "text/plain": [
       "<Figure size 600x300 with 1 Axes>"
      ]
     },
     "metadata": {},
     "output_type": "display_data"
    }
   ],
   "source": [
    "# Converte a string MES_ANO_INICIO_CONTRIBUICAO para data (assumindo dia 01 como padrão)\n",
    "df_com_data = df_imoveis_unicos.withColumn(\"DATA_INICIO\", to_date(col(\"ANO_E_MES_DE_INICIO_DA_CONTRIBUICAO\").cast('double').cast('integer').cast('string'), \"yyyyMM\"))\n",
    "\n",
    "# Calcula a idade em anos com base na data atual\n",
    "df_com_idade = df_com_data.withColumn(\"IDADE_IMOVEL\",\n",
    "    floor(months_between(current_date(), col(\"DATA_INICIO\")) / 12)\n",
    ")\n",
    "\n",
    "# Cria faixas etárias\n",
    "df_imoveis_unicos = df_com_idade.withColumn(\"FAIXA_ETARIA_IMOVEL\",\n",
    "    when(col(\"IDADE_IMOVEL\") <= 10, \"0-10 anos\")\n",
    "    .when((col(\"IDADE_IMOVEL\") > 10) & (col(\"IDADE_IMOVEL\") <= 20), \"11-20 anos\")\n",
    "    .when((col(\"IDADE_IMOVEL\") > 20) & (col(\"IDADE_IMOVEL\") <= 40), \"21-40 anos\")\n",
    "    .when((col(\"IDADE_IMOVEL\") > 40) & (col(\"IDADE_IMOVEL\") <= 60), \"41-60 anos\")\n",
    "    .otherwise(\"60+ anos\")\n",
    ")\n",
    "\n",
    "# Agrupa por faixa etária e conta os imóveis\n",
    "distribuicao_idade = df_imoveis_unicos.groupBy(\"FAIXA_ETARIA_IMOVEL\").count().withColumnRenamed('count', 'QUANTIDADE').orderBy(\"count\", ascending=False)\n",
    "\n",
    "# Coletar os dados do Spark DataFrame\n",
    "dados = distribuicao_idade.select(\"FAIXA_ETARIA_IMOVEL\", \"QUANTIDADE\").orderBy('QUANTIDADE').collect()\n",
    "\n",
    "# Transformar em listas nativas\n",
    "tipos = [f\"{linha['FAIXA_ETARIA_IMOVEL']}\" for linha in dados]\n",
    "tipos = [palavra.capitalize() for palavra in tipos]\n",
    "quantidades = [linha[\"QUANTIDADE\"] for linha in dados]\n",
    "\n",
    "plotar_grafico_barra(tipos, quantidades, 'horizontal', 'Distribuição dos Imóveis por Faixa Etária', 'Faixa Etária', 'Quantidade')"
   ]
  },
  {
   "cell_type": "markdown",
   "metadata": {
    "application/vnd.databricks.v1+cell": {
     "cellMetadata": {
      "byteLimit": 2048000,
      "rowLimit": 10000
     },
     "inputWidgets": {},
     "nuid": "598a2369-4c21-4508-a9b9-f920db0980e5",
     "showTitle": false,
     "tableResultSettingsMap": {},
     "title": ""
    }
   },
   "source": [
    "## Quais são os bairros mais valiosos?\n",
    "\n",
    "No gráfico abaixo podemos observar os 5 bairros com maior valor médio dos imóveis, que são: Dois Irmãos, Monteiro, Recife, Jaqueira e Ilha do Retiro, respectivamente. Na tabela abaixo do gráfico ordenada dos valores médios dos imóveis por bairro.\n",
    "\n"
   ]
  },
  {
   "cell_type": "code",
   "execution_count": 0,
   "metadata": {
    "application/vnd.databricks.v1+cell": {
     "cellMetadata": {
      "byteLimit": 2048000,
      "rowLimit": 10000
     },
     "inputWidgets": {},
     "nuid": "487ca010-99de-4c2b-8dfb-7eab0453769c",
     "showTitle": false,
     "tableResultSettingsMap": {},
     "title": ""
    }
   },
   "outputs": [
    {
     "output_type": "display_data",
     "data": {
      "image/png": "[encoded data removed]",
      "text/plain": [
       "<Figure size 600x300 with 1 Axes>"
      ]
     },
     "metadata": {},
     "output_type": "display_data"
    },
    {
     "output_type": "display_data",
     "data": {
      "text/html": [
       "<style scoped>\n",
       "  .table-result-container {\n",
       "    max-height: 300px;\n",
       "    overflow: auto;\n",
       "  }\n",
       "  table, th, td {\n",
       "    border: 1px solid black;\n",
       "    border-collapse: collapse;\n",
       "  }\n",
       "  th, td {\n",
       "    padding: 5px;\n",
       "  }\n",
       "  th {\n",
       "    text-align: left;\n",
       "  }\n",
       "</style><div class='table-result-container'><table class='table-result'><thead style='background-color: white'><tr><th>BAIRRO</th><th>VALOR_MEDIO_IMOVEL</th></tr></thead><tbody><tr><td>DOIS IRMAOS</td><td>552560.514</td></tr><tr><td>MONTEIRO</td><td>425830.9024593494</td></tr><tr><td>RECIFE</td><td>400213.06498084293</td></tr><tr><td>JAQUEIRA</td><td>372886.264131327</td></tr><tr><td>ILHA DO RETIRO</td><td>365730.4549927745</td></tr><tr><td>PARNAMIRIM</td><td>332579.6875923384</td></tr><tr><td>SANTANA</td><td>331284.935032841</td></tr><tr><td>GUABIRABA</td><td>329963.2893245779</td></tr><tr><td>CASA FORTE</td><td>327026.67812279024</td></tr><tr><td>POCO</td><td>300417.9796253231</td></tr><tr><td>DERBY</td><td>297280.2901113014</td></tr><tr><td>APIPUCOS</td><td>282728.0828656716</td></tr><tr><td>ILHA DO LEITE</td><td>267854.12313407374</td></tr><tr><td>GRACAS</td><td>259644.95183756488</td></tr><tr><td>BOA VIAGEM</td><td>248448.51575141324</td></tr><tr><td>ROSARINHO</td><td>245021.62850166805</td></tr><tr><td>PINA</td><td>244510.43656292805</td></tr><tr><td>AFLITOS</td><td>237252.90622340434</td></tr><tr><td>TAMARINEIRA</td><td>221634.83425572515</td></tr><tr><td>ESPINHEIRO</td><td>221618.12638972054</td></tr><tr><td>MADALENA</td><td>214591.87968037315</td></tr><tr><td>SANTO AMARO</td><td>203522.13171488105</td></tr><tr><td>SOLEDADE</td><td>192185.97937703386</td></tr><tr><td>IMBIRIBEIRA</td><td>189106.3804834415</td></tr><tr><td>TORRE</td><td>181573.83611723103</td></tr><tr><td>ENCRUZILHADA</td><td>180605.9049516848</td></tr><tr><td>TORREAO</td><td>174857.1916229713</td></tr><tr><td>PONTO DE PARADA</td><td>171095.90213675206</td></tr><tr><td>SITIO DOS PINTOS</td><td>168484.25877192983</td></tr><tr><td>PAISSANDU</td><td>163086.0092898643</td></tr><tr><td>CASA AMARELA</td><td>161271.17469513562</td></tr><tr><td>SAO JOSE</td><td>157092.40725379865</td></tr><tr><td>CAXANGA</td><td>152682.76717192677</td></tr><tr><td>PRADO</td><td>143747.3223750812</td></tr><tr><td>BOA VISTA</td><td>135000.49128539016</td></tr><tr><td>CURADO</td><td>124162.69735696517</td></tr><tr><td>PASSARINHO</td><td>119684.03279329612</td></tr><tr><td>HIPODROMO</td><td>118154.57662280701</td></tr><tr><td>ZUMBI</td><td>114863.38309381234</td></tr><tr><td>SANTO ANTONIO</td><td>111045.60937932285</td></tr><tr><td>CORDEIRO</td><td>101167.12337849507</td></tr><tr><td>BONGI</td><td>98263.40134114584</td></tr><tr><td>CAMPO GRANDE</td><td>94534.85718307637</td></tr><tr><td>AFOGADOS</td><td>94498.48697917891</td></tr><tr><td>VARZEA</td><td>93441.3780439297</td></tr><tr><td>IPUTINGA</td><td>93123.11724719069</td></tr><tr><td>CIDADE UNIVERSITARIA</td><td>91583.88399999999</td></tr><tr><td>BARRO</td><td>90761.25557667622</td></tr><tr><td>CABANGA</td><td>87735.33116751268</td></tr><tr><td>JIQUIA</td><td>87704.7101068376</td></tr><tr><td>COELHOS</td><td>86228.72796917497</td></tr><tr><td>ESTANCIA</td><td>86159.12701093563</td></tr><tr><td>ENGENHO DO MEIO</td><td>82859.18571276216</td></tr><tr><td>IPSEP</td><td>80051.273962711</td></tr><tr><td>SAN MARTIN</td><td>79279.3010262391</td></tr><tr><td>MACAXEIRA</td><td>77322.91472599022</td></tr><tr><td>JARDIM SAO PAULO</td><td>77059.90987262006</td></tr><tr><td>MUSTARDINHA</td><td>74496.18874001774</td></tr><tr><td>IBURA</td><td>70865.75343422957</td></tr><tr><td>CAJUEIRO</td><td>70228.0339493671</td></tr><tr><td>CACOTE</td><td>67530.43925233644</td></tr><tr><td>AREIAS</td><td>67000.75255298914</td></tr><tr><td>TORROES</td><td>65597.51167336009</td></tr><tr><td>ARRUDA</td><td>65088.35782369868</td></tr><tr><td>TEJIPIO</td><td>64585.51050135103</td></tr><tr><td>ALTO DO MANDU</td><td>63656.570348623834</td></tr><tr><td>CAMPINA DO BARRETO</td><td>61298.02966189853</td></tr><tr><td>MANGUEIRA</td><td>51915.05057624738</td></tr><tr><td>PEIXINHOS</td><td>44803.04129629629</td></tr><tr><td>PORTO DA MADEIRA</td><td>42945.00190979956</td></tr><tr><td>BREJO DE BEBERIBE</td><td>42434.237627840914</td></tr><tr><td>FUNDAO</td><td>41266.465577354276</td></tr><tr><td>BREJO DA GUABIRABA</td><td>39010.04091836735</td></tr><tr><td>DOIS UNIDOS</td><td>38889.20689675871</td></tr><tr><td>MANGABEIRA</td><td>38711.095548733705</td></tr><tr><td>JORDAO</td><td>38483.87820468344</td></tr><tr><td>SANCHO</td><td>38041.3929951355</td></tr><tr><td>BOMBA DO HEMETERIO</td><td>37124.14178368123</td></tr><tr><td>VASCO DA GAMA</td><td>34886.5548527505</td></tr><tr><td>BEBERIBE</td><td>31698.662242302547</td></tr><tr><td>TOTO</td><td>31625.730376984127</td></tr><tr><td>AGUA FRIA</td><td>31206.720511154683</td></tr><tr><td>ALTO JOSE DO PINHO</td><td>30973.676861924687</td></tr><tr><td>CORREGO DO JENIPAPO</td><td>30358.178662613984</td></tr><tr><td>ILHA JOANA BEZERRA</td><td>29093.487826086974</td></tr><tr><td>COHAB</td><td>28834.38146601811</td></tr><tr><td>BRASILIA TEIMOSA</td><td>27938.572387161483</td></tr><tr><td>LINHA DO TIRO</td><td>25375.28515675678</td></tr><tr><td>MORRO DA CONCEICAO</td><td>24356.374827213822</td></tr><tr><td>COQUEIRAL</td><td>23780.15357394366</td></tr><tr><td>NOVA DESCOBERTA</td><td>23571.69554244738</td></tr><tr><td>ALTO JOSE BONIFACIO</td><td>16940.6395473251</td></tr><tr><td>ALTO SANTA TEREZINHA</td><td>15407.456717363753</td></tr></tbody></table></div>"
      ]
     },
     "metadata": {
      "application/vnd.databricks.v1+output": {
       "addedWidgets": {},
       "aggData": [],
       "aggError": "",
       "aggOverflow": false,
       "aggSchema": [],
       "aggSeriesLimitReached": false,
       "aggType": "",
       "arguments": {},
       "columnCustomDisplayInfos": {},
       "data": [
        [
         "DOIS IRMAOS",
         552560.514
        ],
        [
         "MONTEIRO",
         425830.9024593494
        ],
        [
         "RECIFE",
         400213.06498084293
        ],
        [
         "JAQUEIRA",
         372886.264131327
        ],
        [
         "ILHA DO RETIRO",
         365730.4549927745
        ],
        [
         "PARNAMIRIM",
         332579.6875923384
        ],
        [
         "SANTANA",
         331284.935032841
        ],
        [
         "GUABIRABA",
         329963.2893245779
        ],
        [
         "CASA FORTE",
         327026.67812279024
        ],
        [
         "POCO",
         300417.9796253231
        ],
        [
         "DERBY",
         297280.2901113014
        ],
        [
         "APIPUCOS",
         282728.0828656716
        ],
        [
         "ILHA DO LEITE",
         267854.12313407374
        ],
        [
         "GRACAS",
         259644.95183756488
        ],
        [
         "BOA VIAGEM",
         248448.51575141324
        ],
        [
         "ROSARINHO",
         245021.62850166805
        ],
        [
         "PINA",
         244510.43656292805
        ],
        [
         "AFLITOS",
         237252.90622340434
        ],
        [
         "TAMARINEIRA",
         221634.83425572515
        ],
        [
         "ESPINHEIRO",
         221618.12638972054
        ],
        [
         "MADALENA",
         214591.87968037315
        ],
        [
         "SANTO AMARO",
         203522.13171488105
        ],
        [
         "SOLEDADE",
         192185.97937703386
        ],
        [
         "IMBIRIBEIRA",
         189106.3804834415
        ],
        [
         "TORRE",
         181573.83611723103
        ],
        [
         "ENCRUZILHADA",
         180605.9049516848
        ],
        [
         "TORREAO",
         174857.1916229713
        ],
        [
         "PONTO DE PARADA",
         171095.90213675206
        ],
        [
         "SITIO DOS PINTOS",
         168484.25877192983
        ],
        [
         "PAISSANDU",
         163086.0092898643
        ],
        [
         "CASA AMARELA",
         161271.17469513562
        ],
        [
         "SAO JOSE",
         157092.40725379865
        ],
        [
         "CAXANGA",
         152682.76717192677
        ],
        [
         "PRADO",
         143747.3223750812
        ],
        [
         "BOA VISTA",
         135000.49128539016
        ],
        [
         "CURADO",
         124162.69735696517
        ],
        [
         "PASSARINHO",
         119684.03279329612
        ],
        [
         "HIPODROMO",
         118154.57662280701
        ],
        [
         "ZUMBI",
         114863.38309381234
        ],
        [
         "SANTO ANTONIO",
         111045.60937932285
        ],
        [
         "CORDEIRO",
         101167.12337849507
        ],
        [
         "BONGI",
         98263.40134114584
        ],
        [
         "CAMPO GRANDE",
         94534.85718307637
        ],
        [
         "AFOGADOS",
         94498.48697917891
        ],
        [
         "VARZEA",
         93441.3780439297
        ],
        [
         "IPUTINGA",
         93123.11724719069
        ],
        [
         "CIDADE UNIVERSITARIA",
         91583.88399999999
        ],
        [
         "BARRO",
         90761.25557667622
        ],
        [
         "CABANGA",
         87735.33116751268
        ],
        [
         "JIQUIA",
         87704.7101068376
        ],
        [
         "COELHOS",
         86228.72796917497
        ],
        [
         "ESTANCIA",
         86159.12701093563
        ],
        [
         "ENGENHO DO MEIO",
         82859.18571276216
        ],
        [
         "IPSEP",
         80051.273962711
        ],
        [
         "SAN MARTIN",
         79279.3010262391
        ],
        [
         "MACAXEIRA",
         77322.91472599022
        ],
        [
         "JARDIM SAO PAULO",
         77059.90987262006
        ],
        [
         "MUSTARDINHA",
         74496.18874001774
        ],
        [
         "IBURA",
         70865.75343422957
        ],
        [
         "CAJUEIRO",
         70228.0339493671
        ],
        [
         "CACOTE",
         67530.43925233644
        ],
        [
         "AREIAS",
         67000.75255298914
        ],
        [
         "TORROES",
         65597.51167336009
        ],
        [
         "ARRUDA",
         65088.35782369868
        ],
        [
         "TEJIPIO",
         64585.51050135103
        ],
        [
         "ALTO DO MANDU",
         63656.570348623834
        ],
        [
         "CAMPINA DO BARRETO",
         61298.02966189853
        ],
        [
         "MANGUEIRA",
         51915.05057624738
        ],
        [
         "PEIXINHOS",
         44803.04129629629
        ],
        [
         "PORTO DA MADEIRA",
         42945.00190979956
        ],
        [
         "BREJO DE BEBERIBE",
         42434.237627840914
        ],
        [
         "FUNDAO",
         41266.465577354276
        ],
        [
         "BREJO DA GUABIRABA",
         39010.04091836735
        ],
        [
         "DOIS UNIDOS",
         38889.20689675871
        ],
        [
         "MANGABEIRA",
         38711.095548733705
        ],
        [
         "JORDAO",
         38483.87820468344
        ],
        [
         "SANCHO",
         38041.3929951355
        ],
        [
         "BOMBA DO HEMETERIO",
         37124.14178368123
        ],
        [
         "VASCO DA GAMA",
         34886.5548527505
        ],
        [
         "BEBERIBE",
         31698.662242302547
        ],
        [
         "TOTO",
         31625.730376984127
        ],
        [
         "AGUA FRIA",
         31206.720511154683
        ],
        [
         "ALTO JOSE DO PINHO",
         30973.676861924687
        ],
        [
         "CORREGO DO JENIPAPO",
         30358.178662613984
        ],
        [
         "ILHA JOANA BEZERRA",
         29093.487826086974
        ],
        [
         "COHAB",
         28834.38146601811
        ],
        [
         "BRASILIA TEIMOSA",
         27938.572387161483
        ],
        [
         "LINHA DO TIRO",
         25375.28515675678
        ],
        [
         "MORRO DA CONCEICAO",
         24356.374827213822
        ],
        [
         "COQUEIRAL",
         23780.15357394366
        ],
        [
         "NOVA DESCOBERTA",
         23571.69554244738
        ],
        [
         "ALTO JOSE BONIFACIO",
         16940.6395473251
        ],
        [
         "ALTO SANTA TEREZINHA",
         15407.456717363753
        ]
       ],
       "datasetInfos": [],
       "dbfsResultPath": null,
       "isJsonSchema": true,
       "metadata": {},
       "overflow": false,
       "plotOptions": {
        "customPlotOptions": {},
        "displayType": "table",
        "pivotAggregation": null,
        "pivotColumns": null,
        "xColumns": null,
        "yColumns": null
       },
       "removedWidgets": [],
       "schema": [
        {
         "metadata": "{}",
         "name": "BAIRRO",
         "type": "\"string\""
        },
        {
         "metadata": "{}",
         "name": "VALOR_MEDIO_IMOVEL",
         "type": "\"double\""
        }
       ],
       "type": "table"
      }
     },
     "output_type": "display_data"
    }
   ],
   "source": [
    "from pyspark.sql.functions import avg\n",
    "\n",
    "bairros_valiosos = df_imoveis_unicos.groupBy(\"BAIRRO\") \\\n",
    "    .agg(avg(\"VALOR_TOTAL_DO_IMOVEL_ESTIMADO\").alias(\"VALOR_MEDIO_IMOVEL\")) \\\n",
    "    .orderBy(\"VALOR_MEDIO_IMOVEL\", ascending=False)\n",
    "\n",
    "# Coletar os dados do Spark DataFrame\n",
    "dados = bairros_valiosos.select(\"BAIRRO\", \"VALOR_MEDIO_IMOVEL\").collect()[:5]\n",
    "\n",
    "# Transformar em listas nativas\n",
    "tipos = [f\"{linha['BAIRRO']}\" for linha in dados]\n",
    "tipos = [palavra.capitalize() for palavra in tipos]\n",
    "quantidades = [linha[\"VALOR_MEDIO_IMOVEL\"] for linha in dados]\n",
    "\n",
    "plotar_grafico_barra(tipos, quantidades, 'horizontal', 'Bairros mais Valiosos', 'Valor Médio dos Imóveis', 'Bairro')\n",
    "\n",
    "bairros_valiosos.display()"
   ]
  },
  {
   "cell_type": "markdown",
   "metadata": {
    "application/vnd.databricks.v1+cell": {
     "cellMetadata": {
      "byteLimit": 2048000,
      "rowLimit": 10000
     },
     "inputWidgets": {},
     "nuid": "140d96d0-d10e-416d-ab49-20226846744c",
     "showTitle": false,
     "tableResultSettingsMap": {},
     "title": ""
    }
   },
   "source": [
    "## E em relação ao valor do IPTU?\n",
    "\n",
    "Na tabela abaixo temos a lista ordenada dos bairros com maior valor cobrado de IPTU."
   ]
  },
  {
   "cell_type": "code",
   "execution_count": 0,
   "metadata": {
    "application/vnd.databricks.v1+cell": {
     "cellMetadata": {
      "byteLimit": 2048000,
      "rowLimit": 10000
     },
     "inputWidgets": {},
     "nuid": "2527ff88-de78-47af-8f5a-59c763cb0136",
     "showTitle": false,
     "tableResultSettingsMap": {},
     "title": ""
    }
   },
   "outputs": [
    {
     "output_type": "display_data",
     "data": {
      "text/html": [
       "<style scoped>\n",
       "  .table-result-container {\n",
       "    max-height: 300px;\n",
       "    overflow: auto;\n",
       "  }\n",
       "  table, th, td {\n",
       "    border: 1px solid black;\n",
       "    border-collapse: collapse;\n",
       "  }\n",
       "  th, td {\n",
       "    padding: 5px;\n",
       "  }\n",
       "  th {\n",
       "    text-align: left;\n",
       "  }\n",
       "</style><div class='table-result-container'><table class='table-result'><thead style='background-color: white'><tr><th>BAIRRO</th><th>VALOR_MEDIO_IPTU</th></tr></thead><tbody><tr><td>DOIS IRMAOS</td><td>9192.063894080993</td></tr><tr><td>RECIFE</td><td>5437.829200257982</td></tr><tr><td>MONTEIRO</td><td>4447.060385852076</td></tr><tr><td>GUABIRABA</td><td>4389.76644717445</td></tr><tr><td>JAQUEIRA</td><td>3873.9865912983864</td></tr><tr><td>ILHA DO RETIRO</td><td>3850.9610943005155</td></tr><tr><td>PARNAMIRIM</td><td>3643.7244928869964</td></tr><tr><td>ILHA DO LEITE</td><td>3615.916474666667</td></tr><tr><td>SANTANA</td><td>3565.9513385341907</td></tr><tr><td>CASA FORTE</td><td>3362.1718225992113</td></tr><tr><td>DERBY</td><td>3313.324321252423</td></tr><tr><td>APIPUCOS</td><td>3277.7992014925308</td></tr><tr><td>POCO</td><td>3073.699661678624</td></tr><tr><td>PINA</td><td>3020.3048117886683</td></tr><tr><td>GRACAS</td><td>2596.360017386637</td></tr><tr><td>SOLEDADE</td><td>2567.3244285206933</td></tr><tr><td>SANTO AMARO</td><td>2496.911915670299</td></tr><tr><td>BOA VIAGEM</td><td>2488.5542857036394</td></tr><tr><td>AFLITOS</td><td>2210.85497087748</td></tr><tr><td>IMBIRIBEIRA</td><td>2200.857067108371</td></tr><tr><td>ESPINHEIRO</td><td>2186.2236044080114</td></tr><tr><td>ROSARINHO</td><td>2182.145863894764</td></tr><tr><td>TAMARINEIRA</td><td>2171.1178332450504</td></tr><tr><td>MADALENA</td><td>2088.5215769265815</td></tr><tr><td>PAISSANDU</td><td>1973.2367767929272</td></tr><tr><td>PASSARINHO</td><td>1946.5493164730017</td></tr><tr><td>SAO JOSE</td><td>1908.3779696507636</td></tr><tr><td>CURADO</td><td>1731.7124914217984</td></tr><tr><td>PONTO DE PARADA</td><td>1689.2036869933052</td></tr><tr><td>TORRE</td><td>1649.1570614064758</td></tr><tr><td>ENCRUZILHADA</td><td>1637.828526190003</td></tr><tr><td>BOA VISTA</td><td>1625.741833621052</td></tr><tr><td>SANTO ANTONIO</td><td>1595.0426898664264</td></tr><tr><td>SITIO DOS PINTOS</td><td>1581.6989158345223</td></tr><tr><td>TORREAO</td><td>1577.06786450205</td></tr><tr><td>PRADO</td><td>1510.1722200678582</td></tr><tr><td>CAXANGA</td><td>1452.5391853717092</td></tr><tr><td>CASA AMARELA</td><td>1422.0810587724657</td></tr><tr><td>CIDADE UNIVERSITARIA</td><td>1226.7163749999995</td></tr><tr><td>ZUMBI</td><td>1133.997275838471</td></tr><tr><td>AFOGADOS</td><td>1034.6245383794915</td></tr><tr><td>CABANGA</td><td>938.3095616781468</td></tr><tr><td>BONGI</td><td>934.0702940236457</td></tr><tr><td>HIPODROMO</td><td>930.9438037865755</td></tr><tr><td>COELHOS</td><td>914.3782860192005</td></tr><tr><td>ESTANCIA</td><td>874.3434843257837</td></tr><tr><td>VARZEA</td><td>853.8050034159858</td></tr><tr><td>CORDEIRO</td><td>843.4783255713281</td></tr><tr><td>JIQUIA</td><td>837.3900158786176</td></tr><tr><td>CACOTE</td><td>823.588750929369</td></tr><tr><td>IPUTINGA</td><td>809.8230392132909</td></tr><tr><td>BARRO</td><td>783.3048668120782</td></tr><tr><td>CAMPO GRANDE</td><td>772.3901744028024</td></tr><tr><td>IBURA</td><td>759.1159009009131</td></tr><tr><td>SAN MARTIN</td><td>684.0339430428194</td></tr><tr><td>IPSEP</td><td>669.6783836935712</td></tr><tr><td>MACAXEIRA</td><td>658.519066015989</td></tr><tr><td>MUSTARDINHA</td><td>629.3322216204515</td></tr><tr><td>ENGENHO DO MEIO</td><td>628.8938762582442</td></tr><tr><td>JARDIM SAO PAULO</td><td>621.5791887340914</td></tr><tr><td>ARRUDA</td><td>603.5649723864572</td></tr><tr><td>TORROES</td><td>581.0471136612003</td></tr><tr><td>AREIAS</td><td>550.7332122480867</td></tr><tr><td>CAJUEIRO</td><td>519.1862783018857</td></tr><tr><td>PEIXINHOS</td><td>504.0082407407411</td></tr><tr><td>TEJIPIO</td><td>493.7909435489751</td></tr><tr><td>ALTO DO MANDU</td><td>484.16761851520556</td></tr><tr><td>BREJO DE BEBERIBE</td><td>417.53391596045486</td></tr><tr><td>MANGUEIRA</td><td>395.41107807337903</td></tr><tr><td>CAMPINA DO BARRETO</td><td>382.7470655529361</td></tr><tr><td>BREJO DA GUABIRABA</td><td>367.58131541725584</td></tr><tr><td>DOIS UNIDOS</td><td>357.5067579908681</td></tr><tr><td>PORTO DA MADEIRA</td><td>327.7367530529213</td></tr><tr><td>FUNDAO</td><td>298.46231171692176</td></tr><tr><td>JORDAO</td><td>297.1868138671073</td></tr><tr><td>BOMBA DO HEMETERIO</td><td>296.55001221933685</td></tr><tr><td>CORREGO DO JENIPAPO</td><td>277.8926646928195</td></tr><tr><td>BEBERIBE</td><td>277.3202063789864</td></tr><tr><td>MANGABEIRA</td><td>265.98033492822447</td></tr><tr><td>SANCHO</td><td>254.25792036910588</td></tr><tr><td>VASCO DA GAMA</td><td>231.40013023938064</td></tr><tr><td>AGUA FRIA</td><td>223.88618244549332</td></tr><tr><td>ALTO JOSE DO PINHO</td><td>213.55459671396457</td></tr><tr><td>TOTO</td><td>208.23518963034047</td></tr><tr><td>BRASILIA TEIMOSA</td><td>196.28459615685074</td></tr><tr><td>COHAB</td><td>195.67910325995683</td></tr><tr><td>LINHA DO TIRO</td><td>182.9885559427026</td></tr><tr><td>NOVA DESCOBERTA</td><td>160.76718195018395</td></tr><tr><td>MORRO DA CONCEICAO</td><td>154.19788699690423</td></tr><tr><td>COQUEIRAL</td><td>153.98963442419284</td></tr><tr><td>ALTO JOSE BONIFACIO</td><td>105.53591186056441</td></tr><tr><td>ALTO SANTA TEREZINHA</td><td>89.19518690145188</td></tr><tr><td>ILHA JOANA BEZERRA</td><td>78.42654933068903</td></tr></tbody></table></div>"
      ]
     },
     "metadata": {
      "application/vnd.databricks.v1+output": {
       "addedWidgets": {},
       "aggData": [],
       "aggError": "",
       "aggOverflow": false,
       "aggSchema": [],
       "aggSeriesLimitReached": false,
       "aggType": "",
       "arguments": {},
       "columnCustomDisplayInfos": {},
       "data": [
        [
         "DOIS IRMAOS",
         9192.063894080993
        ],
        [
         "RECIFE",
         5437.829200257982
        ],
        [
         "MONTEIRO",
         4447.060385852076
        ],
        [
         "GUABIRABA",
         4389.76644717445
        ],
        [
         "JAQUEIRA",
         3873.9865912983864
        ],
        [
         "ILHA DO RETIRO",
         3850.9610943005155
        ],
        [
         "PARNAMIRIM",
         3643.7244928869964
        ],
        [
         "ILHA DO LEITE",
         3615.916474666667
        ],
        [
         "SANTANA",
         3565.9513385341907
        ],
        [
         "CASA FORTE",
         3362.1718225992113
        ],
        [
         "DERBY",
         3313.324321252423
        ],
        [
         "APIPUCOS",
         3277.7992014925308
        ],
        [
         "POCO",
         3073.699661678624
        ],
        [
         "PINA",
         3020.3048117886683
        ],
        [
         "GRACAS",
         2596.360017386637
        ],
        [
         "SOLEDADE",
         2567.3244285206933
        ],
        [
         "SANTO AMARO",
         2496.911915670299
        ],
        [
         "BOA VIAGEM",
         2488.5542857036394
        ],
        [
         "AFLITOS",
         2210.85497087748
        ],
        [
         "IMBIRIBEIRA",
         2200.857067108371
        ],
        [
         "ESPINHEIRO",
         2186.2236044080114
        ],
        [
         "ROSARINHO",
         2182.145863894764
        ],
        [
         "TAMARINEIRA",
         2171.1178332450504
        ],
        [
         "MADALENA",
         2088.5215769265815
        ],
        [
         "PAISSANDU",
         1973.2367767929272
        ],
        [
         "PASSARINHO",
         1946.5493164730017
        ],
        [
         "SAO JOSE",
         1908.3779696507636
        ],
        [
         "CURADO",
         1731.7124914217984
        ],
        [
         "PONTO DE PARADA",
         1689.2036869933052
        ],
        [
         "TORRE",
         1649.1570614064758
        ],
        [
         "ENCRUZILHADA",
         1637.828526190003
        ],
        [
         "BOA VISTA",
         1625.741833621052
        ],
        [
         "SANTO ANTONIO",
         1595.0426898664264
        ],
        [
         "SITIO DOS PINTOS",
         1581.6989158345223
        ],
        [
         "TORREAO",
         1577.06786450205
        ],
        [
         "PRADO",
         1510.1722200678582
        ],
        [
         "CAXANGA",
         1452.5391853717092
        ],
        [
         "CASA AMARELA",
         1422.0810587724657
        ],
        [
         "CIDADE UNIVERSITARIA",
         1226.7163749999995
        ],
        [
         "ZUMBI",
         1133.997275838471
        ],
        [
         "AFOGADOS",
         1034.6245383794915
        ],
        [
         "CABANGA",
         938.3095616781468
        ],
        [
         "BONGI",
         934.0702940236457
        ],
        [
         "HIPODROMO",
         930.9438037865755
        ],
        [
         "COELHOS",
         914.3782860192005
        ],
        [
         "ESTANCIA",
         874.3434843257837
        ],
        [
         "VARZEA",
         853.8050034159858
        ],
        [
         "CORDEIRO",
         843.4783255713281
        ],
        [
         "JIQUIA",
         837.3900158786176
        ],
        [
         "CACOTE",
         823.588750929369
        ],
        [
         "IPUTINGA",
         809.8230392132909
        ],
        [
         "BARRO",
         783.3048668120782
        ],
        [
         "CAMPO GRANDE",
         772.3901744028024
        ],
        [
         "IBURA",
         759.1159009009131
        ],
        [
         "SAN MARTIN",
         684.0339430428194
        ],
        [
         "IPSEP",
         669.6783836935712
        ],
        [
         "MACAXEIRA",
         658.519066015989
        ],
        [
         "MUSTARDINHA",
         629.3322216204515
        ],
        [
         "ENGENHO DO MEIO",
         628.8938762582442
        ],
        [
         "JARDIM SAO PAULO",
         621.5791887340914
        ],
        [
         "ARRUDA",
         603.5649723864572
        ],
        [
         "TORROES",
         581.0471136612003
        ],
        [
         "AREIAS",
         550.7332122480867
        ],
        [
         "CAJUEIRO",
         519.1862783018857
        ],
        [
         "PEIXINHOS",
         504.0082407407411
        ],
        [
         "TEJIPIO",
         493.7909435489751
        ],
        [
         "ALTO DO MANDU",
         484.16761851520556
        ],
        [
         "BREJO DE BEBERIBE",
         417.53391596045486
        ],
        [
         "MANGUEIRA",
         395.41107807337903
        ],
        [
         "CAMPINA DO BARRETO",
         382.7470655529361
        ],
        [
         "BREJO DA GUABIRABA",
         367.58131541725584
        ],
        [
         "DOIS UNIDOS",
         357.5067579908681
        ],
        [
         "PORTO DA MADEIRA",
         327.7367530529213
        ],
        [
         "FUNDAO",
         298.46231171692176
        ],
        [
         "JORDAO",
         297.1868138671073
        ],
        [
         "BOMBA DO HEMETERIO",
         296.55001221933685
        ],
        [
         "CORREGO DO JENIPAPO",
         277.8926646928195
        ],
        [
         "BEBERIBE",
         277.3202063789864
        ],
        [
         "MANGABEIRA",
         265.98033492822447
        ],
        [
         "SANCHO",
         254.25792036910588
        ],
        [
         "VASCO DA GAMA",
         231.40013023938064
        ],
        [
         "AGUA FRIA",
         223.88618244549332
        ],
        [
         "ALTO JOSE DO PINHO",
         213.55459671396457
        ],
        [
         "TOTO",
         208.23518963034047
        ],
        [
         "BRASILIA TEIMOSA",
         196.28459615685074
        ],
        [
         "COHAB",
         195.67910325995683
        ],
        [
         "LINHA DO TIRO",
         182.9885559427026
        ],
        [
         "NOVA DESCOBERTA",
         160.76718195018395
        ],
        [
         "MORRO DA CONCEICAO",
         154.19788699690423
        ],
        [
         "COQUEIRAL",
         153.98963442419284
        ],
        [
         "ALTO JOSE BONIFACIO",
         105.53591186056441
        ],
        [
         "ALTO SANTA TEREZINHA",
         89.19518690145188
        ],
        [
         "ILHA JOANA BEZERRA",
         78.42654933068903
        ]
       ],
       "datasetInfos": [],
       "dbfsResultPath": null,
       "isJsonSchema": true,
       "metadata": {},
       "overflow": false,
       "plotOptions": {
        "customPlotOptions": {},
        "displayType": "table",
        "pivotAggregation": null,
        "pivotColumns": null,
        "xColumns": null,
        "yColumns": null
       },
       "removedWidgets": [],
       "schema": [
        {
         "metadata": "{}",
         "name": "BAIRRO",
         "type": "\"string\""
        },
        {
         "metadata": "{}",
         "name": "VALOR_MEDIO_IPTU",
         "type": "\"double\""
        }
       ],
       "type": "table"
      }
     },
     "output_type": "display_data"
    }
   ],
   "source": [
    "bairros_iptu = df.groupBy(\"BAIRRO\") \\\n",
    "    .agg(avg(\"VALOR_COBRADO_DE_IPTU\").alias(\"VALOR_MEDIO_IPTU\")) \\\n",
    "    .orderBy(\"VALOR_MEDIO_IPTU\", ascending=False)\n",
    "\n",
    "bairros_iptu.display()"
   ]
  },
  {
   "cell_type": "markdown",
   "metadata": {
    "application/vnd.databricks.v1+cell": {
     "cellMetadata": {
      "byteLimit": 2048000,
      "rowLimit": 10000
     },
     "inputWidgets": {},
     "nuid": "d638d49f-120e-4c8e-a816-df30420c2141",
     "showTitle": false,
     "tableResultSettingsMap": {},
     "title": ""
    }
   },
   "source": [
    "## Há uma relação direta entre a idade do imóvel e o valor desse imóvel?\n",
    "\n",
    "Observamos abaixo que os imóveis com maior valor possuem idade entre 0-20 anos, ou seja, há uma relação inversamente proporcional entre essas variáveis. Imóveis mais novos possuem maior valor, enquanto imóveis mais velhos possuem menos valor. O mesmo ocorre para o valor médio cobrado para IPTU."
   ]
  },
  {
   "cell_type": "code",
   "execution_count": 0,
   "metadata": {
    "application/vnd.databricks.v1+cell": {
     "cellMetadata": {
      "byteLimit": 2048000,
      "rowLimit": 10000
     },
     "inputWidgets": {},
     "nuid": "26b8d776-2913-41d4-8817-352762271a11",
     "showTitle": false,
     "tableResultSettingsMap": {},
     "title": ""
    }
   },
   "outputs": [
    {
     "output_type": "display_data",
     "data": {
      "text/html": [
       "<style scoped>\n",
       "  .table-result-container {\n",
       "    max-height: 300px;\n",
       "    overflow: auto;\n",
       "  }\n",
       "  table, th, td {\n",
       "    border: 1px solid black;\n",
       "    border-collapse: collapse;\n",
       "  }\n",
       "  th, td {\n",
       "    padding: 5px;\n",
       "  }\n",
       "  th {\n",
       "    text-align: left;\n",
       "  }\n",
       "</style><div class='table-result-container'><table class='table-result'><thead style='background-color: white'><tr><th>FAIXA_ETARIA_IMOVEL</th><th>VALOR_MEDIO_IMOVEL</th><th>VALOR_MEDIO_IPTU</th></tr></thead><tbody><tr><td>11-20 anos</td><td>276066.45792746986</td><td>3243.9899963607736</td></tr><tr><td>0-10 anos</td><td>232451.12980407872</td><td>2544.637903710154</td></tr><tr><td>21-40 anos</td><td>167921.21436956388</td><td>1887.7919918477496</td></tr><tr><td>60+ anos</td><td>122599.5429372052</td><td>1581.9074495901718</td></tr><tr><td>41-60 anos</td><td>85085.94975491763</td><td>875.5259057019306</td></tr></tbody></table></div>"
      ]
     },
     "metadata": {
      "application/vnd.databricks.v1+output": {
       "addedWidgets": {},
       "aggData": [],
       "aggError": "",
       "aggOverflow": false,
       "aggSchema": [],
       "aggSeriesLimitReached": false,
       "aggType": "",
       "arguments": {},
       "columnCustomDisplayInfos": {},
       "data": [
        [
         "11-20 anos",
         276066.45792746986,
         3243.9899963607736
        ],
        [
         "0-10 anos",
         232451.12980407872,
         2544.637903710154
        ],
        [
         "21-40 anos",
         167921.21436956388,
         1887.7919918477496
        ],
        [
         "60+ anos",
         122599.5429372052,
         1581.9074495901718
        ],
        [
         "41-60 anos",
         85085.94975491763,
         875.5259057019306
        ]
       ],
       "datasetInfos": [],
       "dbfsResultPath": null,
       "isJsonSchema": true,
       "metadata": {},
       "overflow": false,
       "plotOptions": {
        "customPlotOptions": {},
        "displayType": "table",
        "pivotAggregation": null,
        "pivotColumns": null,
        "xColumns": null,
        "yColumns": null
       },
       "removedWidgets": [],
       "schema": [
        {
         "metadata": "{}",
         "name": "FAIXA_ETARIA_IMOVEL",
         "type": "\"string\""
        },
        {
         "metadata": "{}",
         "name": "VALOR_MEDIO_IMOVEL",
         "type": "\"double\""
        },
        {
         "metadata": "{}",
         "name": "VALOR_MEDIO_IPTU",
         "type": "\"double\""
        }
       ],
       "type": "table"
      }
     },
     "output_type": "display_data"
    }
   ],
   "source": [
    "df_idade_valor = df_imoveis_unicos.groupBy(\"FAIXA_ETARIA_IMOVEL\").agg(\n",
    "    avg(\"VALOR_TOTAL_DO_IMOVEL_ESTIMADO\").alias(\"VALOR_MEDIO_IMOVEL\"),\n",
    "    avg(\"VALOR_COBRADO_DE_IPTU\").alias(\"VALOR_MEDIO_IPTU\")\n",
    ").orderBy(\"VALOR_MEDIO_IMOVEL\", ascending=False)\n",
    "\n",
    "df_idade_valor.display()"
   ]
  },
  {
   "cell_type": "markdown",
   "metadata": {
    "application/vnd.databricks.v1+cell": {
     "cellMetadata": {
      "byteLimit": 2048000,
      "rowLimit": 10000
     },
     "inputWidgets": {},
     "nuid": "ed9e88b9-6391-4b19-a11e-c8d9b68397b2",
     "showTitle": false,
     "tableResultSettingsMap": {},
     "title": ""
    }
   },
   "source": [
    "## Análise adicional: Quantidade de imóveis com área construída maior do que área do terreno\n",
    "\n",
    "Observe abaixo que cerca de 7,94% dos imóveis da tabela de dados possui área construída maior do que a área do terreno que consta no cadastro do imóvel. Isso sinaliza para a prefeitura do Recife a necessidade de realizar uma atualização do cadastro dos imóveis, o que vai trazer um impacto direto no valor cobrado de IPTU."
   ]
  },
  {
   "cell_type": "code",
   "execution_count": 0,
   "metadata": {
    "application/vnd.databricks.v1+cell": {
     "cellMetadata": {
      "byteLimit": 2048000,
      "rowLimit": 10000
     },
     "inputWidgets": {},
     "nuid": "0d3115e3-634f-4c8c-a7ed-b49d04016562",
     "showTitle": false,
     "tableResultSettingsMap": {},
     "title": ""
    }
   },
   "outputs": [
    {
     "output_type": "stream",
     "name": "stdout",
     "output_type": "stream",
     "text": [
      "Quantidade de imóveis com área construída maior do que a área declarada do terreno: 50417\n"
     ]
    }
   ],
   "source": [
    "df_filtrado = df_imoveis_unicos.filter(df[\"AREA_CONSTRUIDA\"] > df[\"AREA_TERRENO\"])\n",
    "print('Quantidade de imóveis com área construída maior do que a área declarada do terreno:', df_filtrado.count())"
   ]
  }
 ],
 "metadata": {
  "application/vnd.databricks.v1+notebook": {
   "computePreferences": null,
   "dashboards": [],
   "environmentMetadata": {
    "base_environment": "",
    "environment_version": "3"
   },
   "inputWidgetPreferences": null,
   "language": "python",
   "notebookMetadata": {
    "mostRecentlyExecutedCommandWithImplicitDF": {
     "commandId": 7997800749502794,
     "dataframes": [
      "_sqldf"
     ]
    },
    "pythonIndentUnit": 4
   },
   "notebookName": "05_analise_dados",
   "widgets": {}
  },
  "language_info": {
   "name": "python"
  }
 },
 "nbformat": 4,
 "nbformat_minor": 0
}