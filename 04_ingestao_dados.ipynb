{
 "cells": [
  {
   "cell_type": "markdown",
   "metadata": {
    "application/vnd.databricks.v1+cell": {
     "cellMetadata": {
      "byteLimit": 2048000,
      "rowLimit": 10000
     },
     "inputWidgets": {},
     "nuid": "33307cfb-44ae-40db-8fd0-fbcbf2debdcd",
     "showTitle": false,
     "tableResultSettingsMap": {},
     "title": ""
    }
   },
   "source": [
    "# Desafio Neurotech\n",
    "\n",
    "- Vaga: Analista de Dados II (Engenharia)\n",
    "- Candidato: Douglas de Farias Medeiros\n",
    "- Desafio: Orquestração e Análise dos Dados de IPTU do Recife\n",
    "- Objetivo deste notebook: Realizar a carga dos dados fornecidos para o desafio (CSV e JSON)."
   ]
  },
  {
   "cell_type": "markdown",
   "metadata": {
    "application/vnd.databricks.v1+cell": {
     "cellMetadata": {
      "byteLimit": 2048000,
      "rowLimit": 10000
     },
     "inputWidgets": {},
     "nuid": "a9828ddf-01d9-4521-9037-dbfecc4a418b",
     "showTitle": false,
     "tableResultSettingsMap": {},
     "title": ""
    }
   },
   "source": [
    "Para este desafio, vamos utilizar a arquitetura medalhão para organizar os dados no catálogo do datalake, considerando as camadas bronze, silver e gold."
   ]
  },
  {
   "cell_type": "markdown",
   "metadata": {
    "application/vnd.databricks.v1+cell": {
     "cellMetadata": {
      "byteLimit": 2048000,
      "rowLimit": 10000
     },
     "inputWidgets": {},
     "nuid": "03aff87d-6de5-41b7-849c-fdd372790900",
     "showTitle": false,
     "tableResultSettingsMap": {},
     "title": ""
    }
   },
   "source": [
    "Antes de executar os notebooks a seguir, foi realizado upload dos arquivos csv e json dentro da pasta /workspace/default/dados_iptu"
   ]
  },
  {
   "cell_type": "code",
   "execution_count": 0,
   "metadata": {
    "application/vnd.databricks.v1+cell": {
     "cellMetadata": {
      "byteLimit": 2048000,
      "rowLimit": 10000
     },
     "inputWidgets": {},
     "nuid": "d0bfe6c7-34d9-4317-b882-17bb498b42cc",
     "showTitle": true,
     "tableResultSettingsMap": {},
     "title": "Ingestão da camada bronze"
    }
   },
   "outputs": [
    {
     "output_type": "stream",
     "name": "stdout",
     "output_type": "stream",
     "text": [
      ">>> Criando schema bronze no catálogo de dados, caso ainda não exista... OK!\n"
     ]
    }
   ],
   "source": [
    "%run /Workspace/Users/douglasfmedeiros@outlook.com/desafio_neurotech/01_ingestao_camada_bronze"
   ]
  },
  {
   "cell_type": "markdown",
   "metadata": {
    "application/vnd.databricks.v1+cell": {
     "cellMetadata": {
      "byteLimit": 2048000,
      "rowLimit": 10000
     },
     "inputWidgets": {},
     "nuid": "40ef4000-fb72-4cb3-add2-adfd44e144d9",
     "showTitle": false,
     "tableResultSettingsMap": {},
     "title": ""
    }
   },
   "source": [
    "Todas as transformações e refinamento de dados (ajuste dos nomes das colunas, verificação de dados nulos, etc) serão realizados na camada silver, assim como a análise de qualidade dos dados."
   ]
  },
  {
   "cell_type": "code",
   "execution_count": 0,
   "metadata": {
    "application/vnd.databricks.v1+cell": {
     "cellMetadata": {
      "byteLimit": 2048000,
      "rowLimit": 10000
     },
     "inputWidgets": {},
     "nuid": "bfa671c8-9d1a-4b77-893a-23d83791fc06",
     "showTitle": true,
     "tableResultSettingsMap": {},
     "title": "Ingestão da camada silver"
    }
   },
   "outputs": [
    {
     "output_type": "stream",
     "name": "stdout",
     "output_type": "stream",
     "text": [
      ">>> Criando schema silver no catálogo de dados, caso ainda não exista... OK!\n"
     ]
    },
    {
     "output_type": "stream",
     "name": "stdout",
     "output_type": "stream",
     "text": [
      "================================== VERIFICAÇÃO - QTD COLUNAS DAS TABELAS ==================================\n>>> Verificando o número de colunas de cada tabela...\n\nTabela: iptu_2020 / Qtd Colunas: 32\nTabela: iptu_2021 / Qtd Colunas: 32\nTabela: iptu_2022 / Qtd Colunas: 32\nTabela: iptu_2023 / Qtd Colunas: 32\nTabela: iptu_2024 / Qtd Colunas: 33\n\n>>> Na tabela IPTU_2024 há uma coluna adicional, vamos investigar se existem colunas diferentes entre as tabelas...\n===========================================================================================================\n\n"
     ]
    },
    {
     "output_type": "stream",
     "name": "stdout",
     "output_type": "stream",
     "text": [
      ">>> Importando todas as tabelas da camada bronze... OK!\n"
     ]
    },
    {
     "output_type": "stream",
     "name": "stdout",
     "output_type": "stream",
     "text": [
      "================================== VERIFICAÇÃO - COLUNAS EXCLUSIVAS ==================================\n>>> Verificando se há colunas diferentes entre os dataframes...\n\nColunas exclusivas de iptu_2020: []\nColunas exclusivas de iptu_2021: []\nColunas exclusivas de iptu_2022: []\nColunas exclusivas de iptu_2023: []\nColunas exclusivas de iptu_2024: ['_id', 'quant pavimentos', 'valor IPTU']\n\n>>> Como esperado, há colunas adicionais na tabela IPTU_2024, vamos ajustar isso... OK!\n======================================================================================================\n"
     ]
    },
    {
     "output_type": "stream",
     "name": "stdout",
     "output_type": "stream",
     "text": [
      ">>> Analisando os tipos de dados das tabelas da camada bronze (inferidas pelo spark), podemos perceber algumas inconsistências, como, por exemplo, a coluna ÁREA CONSTRUÍDA estar como string, quando deveria ser uma informação numérica. Durante o processamento de dados adiante, isso será ajustado para todas as colunas. Os tipos de todas as colunas podem ser observados abaixo: \n\n"
     ]
    },
    {
     "output_type": "execute_result",
     "data": {
      "text/plain": [
       "[('Número do contribuinte', 'string'),\n",
       " ('ano do exercício', 'double'),\n",
       " ('data do cadastramento', 'timestamp'),\n",
       " ('tipo de contribuinte', 'string'),\n",
       " ('CPF/CNPJ mascarado do contribuinte', 'string'),\n",
       " ('logradouro', 'string'),\n",
       " ('numero', 'double'),\n",
       " ('complemento', 'string'),\n",
       " ('bairro', 'string'),\n",
       " ('cidade', 'string'),\n",
       " ('estado', 'string'),\n",
       " ('fração ideal', 'string'),\n",
       " ('AREA TERRENO', 'string'),\n",
       " ('AREA CONSTRUIDA', 'string'),\n",
       " ('área ocupada', 'string'),\n",
       " ('valor do m2 do terreno', 'string'),\n",
       " ('valor do m2 de construção', 'string'),\n",
       " ('ano da construção corrigido', 'double'),\n",
       " ('quantidade de pavimentos', 'double'),\n",
       " ('tipo de uso do imóvel', 'string'),\n",
       " ('tipo de padrão da construção', 'string'),\n",
       " ('fator de obsolescência', 'string'),\n",
       " ('ano e mês de início da contribuição', 'double'),\n",
       " ('valor total do imóvel estimado', 'string'),\n",
       " ('valor cobrado de IPTU', 'string'),\n",
       " ('CEP', 'double'),\n",
       " ('Regime de Tributação do iptu', 'string'),\n",
       " ('Regime de Tributação da trsd', 'string'),\n",
       " ('Tipo de Construção', 'string'),\n",
       " ('Tipo de Empreendimento', 'string'),\n",
       " ('Tipo de Estrutura', 'string'),\n",
       " ('Código Logradouro', 'double')]"
      ]
     },
     "execution_count": 23,
     "metadata": {},
     "output_type": "execute_result"
    },
    {
     "output_type": "stream",
     "name": "stdout",
     "output_type": "stream",
     "text": [
      "========================================== PROCESSAMENTO DE DADOS [Tabela iptu_2020] ==========================================\n\nAjustando os nomes das colunas... OK!\nRemovendo espaços desnecessários do conteúdo da tabela... OK!\nAjustando os tipos de dados... OK!\nAjustando o formato de dados da coluna DATA_DO_CADASTRAMENTO... OK!\nRemovendo dados duplicados... OK!\n\n------------------------------------ ANÁLISE DE REGISTROS NULOS ------------------------------------\n\nAnalisando a quantidade de registros nulos por coluna...\n\n>>> Total de linhas: 403855\nVALOR_DO_M2_DO_TERRENO: 376 registros nulos (0.09%)\nVALOR_DO_M2_DE_CONSTRUCAO: 376 registros nulos (0.09%)\nFATOR_DE_OBSOLESCENCIA: 376 registros nulos (0.09%)\n\n>>> Como a quantidade de registros nulosé inferior a 1%, vamos remover os registros nulos\nRemovendo registros com valores nulos... OK!\n\n---------------------------------- ANÁLISE DE QUALIDADE DOS DADOS ----------------------------------\n\n>>> A coluna ANO_DO_EXERCICIO não pode estar fora do intervalo entre 1900 e o ano atual. Verificando...\n\nQtd de registros com ANO_DO_EXERCICIO inválido: 0\nFiltrando registros com ANO_DO_EXERCICIO fora do intervalo entre 1900 e o ano atual... OK!\n\n>>> Para ser válido, o CEP não pode ter valor nulo e deve possuir 8 dígitos. Verificando...\n\nQtd de registros com CEP inválido: 503\nFiltrando registros com CEP inválido... OK!\n\n>>> O IPTU do imóvel não pode ser maior do que o valor do próprio imóvel. Verificando...\n\nQtd de registros com IPTU maior do que o valor do imóvel: 0\nFiltrando registros em que o valor do IPTU é maior do que o valor do imóvel (dados inconsistentes)... OK!\n\n>>> A coluna que tem a informação do ESTADO deve possuir apenas 2 caracteres com letras. Verificando...\n\nQtd de registros com inconsistência na coluna ESTADO: 0\nFiltrando registros com inconsistências no preenchimento da coluna ESTADO... OK!\n\n>>> O valor do IPTU do imóvel deve ser maior do que zero. Verificando...\n\nQtd de registros com valor de IPTU menor ou igual a zero: 8213\nFiltrando registros com valor de IPTU menor ou igual a zero... OK!\n\n---------------------------------------- INGESTÃO DOS DADOS ----------------------------------------\n\n>> Camada: Silver\n>> Caminho da tabela bronze: bronze_layer.iptu_2020\n>>> Executando carga de dados... CARGA FINALIZADA COM SUCESS! \n\n==================================================== PROCESSAMENTO CONCLUÍDO ==================================================\n\n========================================== PROCESSAMENTO DE DADOS [Tabela iptu_2021] ==========================================\n\nAjustando os nomes das colunas... OK!\nRemovendo espaços desnecessários do conteúdo da tabela... OK!\nAjustando os tipos de dados... OK!\nAjustando o formato de dados da coluna DATA_DO_CADASTRAMENTO... OK!\nRemovendo dados duplicados... OK!\n\n------------------------------------ ANÁLISE DE REGISTROS NULOS ------------------------------------\n\nAnalisando a quantidade de registros nulos por coluna...\n\n>>> Total de linhas: 407185\n\n>>> Como a quantidade de registros nulosé inferior a 1%, vamos remover os registros nulos\nRemovendo registros com valores nulos... OK!\n\n---------------------------------- ANÁLISE DE QUALIDADE DOS DADOS ----------------------------------\n\n>>> A coluna ANO_DO_EXERCICIO não pode estar fora do intervalo entre 1900 e o ano atual. Verificando...\n\nQtd de registros com ANO_DO_EXERCICIO inválido: 0\nFiltrando registros com ANO_DO_EXERCICIO fora do intervalo entre 1900 e o ano atual... OK!\n\n>>> Para ser válido, o CEP não pode ter valor nulo e deve possuir 8 dígitos. Verificando...\n\nQtd de registros com CEP inválido: 503\nFiltrando registros com CEP inválido... OK!\n\n>>> O IPTU do imóvel não pode ser maior do que o valor do próprio imóvel. Verificando...\n\nQtd de registros com IPTU maior do que o valor do imóvel: 0\nFiltrando registros em que o valor do IPTU é maior do que o valor do imóvel (dados inconsistentes)... OK!\n\n>>> A coluna que tem a informação do ESTADO deve possuir apenas 2 caracteres com letras. Verificando...\n\nQtd de registros com inconsistência na coluna ESTADO: 0\nFiltrando registros com inconsistências no preenchimento da coluna ESTADO... OK!\n\n>>> O valor do IPTU do imóvel deve ser maior do que zero. Verificando...\n\nQtd de registros com valor de IPTU menor ou igual a zero: 8204\nFiltrando registros com valor de IPTU menor ou igual a zero... OK!\n\n---------------------------------------- INGESTÃO DOS DADOS ----------------------------------------\n\n>> Camada: Silver\n>> Caminho da tabela bronze: bronze_layer.iptu_2021\n>>> Executando carga de dados... CARGA FINALIZADA COM SUCESS! \n\n==================================================== PROCESSAMENTO CONCLUÍDO ==================================================\n\n========================================== PROCESSAMENTO DE DADOS [Tabela iptu_2022] ==========================================\n\nAjustando os nomes das colunas... OK!\nRemovendo espaços desnecessários do conteúdo da tabela... OK!\nAjustando os tipos de dados... OK!\nAjustando o formato de dados da coluna DATA_DO_CADASTRAMENTO... OK!\nRemovendo dados duplicados... OK!\n\n------------------------------------ ANÁLISE DE REGISTROS NULOS ------------------------------------\n\nAnalisando a quantidade de registros nulos por coluna...\n\n>>> Total de linhas: 411030\n\n>>> Como a quantidade de registros nulosé inferior a 1%, vamos remover os registros nulos\nRemovendo registros com valores nulos... OK!\n\n---------------------------------- ANÁLISE DE QUALIDADE DOS DADOS ----------------------------------\n\n>>> A coluna ANO_DO_EXERCICIO não pode estar fora do intervalo entre 1900 e o ano atual. Verificando...\n\nQtd de registros com ANO_DO_EXERCICIO inválido: 0\nFiltrando registros com ANO_DO_EXERCICIO fora do intervalo entre 1900 e o ano atual... OK!\n\n>>> Para ser válido, o CEP não pode ter valor nulo e deve possuir 8 dígitos. Verificando...\n\nQtd de registros com CEP inválido: 504\nFiltrando registros com CEP inválido... OK!\n\n>>> O IPTU do imóvel não pode ser maior do que o valor do próprio imóvel. Verificando...\n\nQtd de registros com IPTU maior do que o valor do imóvel: 0\nFiltrando registros em que o valor do IPTU é maior do que o valor do imóvel (dados inconsistentes)... OK!\n\n>>> A coluna que tem a informação do ESTADO deve possuir apenas 2 caracteres com letras. Verificando...\n\nQtd de registros com inconsistência na coluna ESTADO: 0\nFiltrando registros com inconsistências no preenchimento da coluna ESTADO... OK!\n\n>>> O valor do IPTU do imóvel deve ser maior do que zero. Verificando...\n\nQtd de registros com valor de IPTU menor ou igual a zero: 8638\nFiltrando registros com valor de IPTU menor ou igual a zero... OK!\n\n---------------------------------------- INGESTÃO DOS DADOS ----------------------------------------\n\n>> Camada: Silver\n>> Caminho da tabela bronze: bronze_layer.iptu_2022\n>>> Executando carga de dados... CARGA FINALIZADA COM SUCESS! \n\n==================================================== PROCESSAMENTO CONCLUÍDO ==================================================\n\n========================================== PROCESSAMENTO DE DADOS [Tabela iptu_2023] ==========================================\n\nAjustando os nomes das colunas... OK!\nRemovendo espaços desnecessários do conteúdo da tabela... OK!\nAjustando os tipos de dados... OK!\nAjustando o formato de dados da coluna DATA_DO_CADASTRAMENTO... OK!\nRemovendo dados duplicados... OK!\n\n------------------------------------ ANÁLISE DE REGISTROS NULOS ------------------------------------\n\nAnalisando a quantidade de registros nulos por coluna...\n\n>>> Total de linhas: 414969\nVALOR_DO_M2_DE_CONSTRUCAO: 1 registros nulos (0.0%)\nFATOR_DE_OBSOLESCENCIA: 1 registros nulos (0.0%)\n\n>>> Como a quantidade de registros nulosé inferior a 1%, vamos remover os registros nulos\nRemovendo registros com valores nulos... OK!\n\n---------------------------------- ANÁLISE DE QUALIDADE DOS DADOS ----------------------------------\n\n>>> A coluna ANO_DO_EXERCICIO não pode estar fora do intervalo entre 1900 e o ano atual. Verificando...\n\nQtd de registros com ANO_DO_EXERCICIO inválido: 0\nFiltrando registros com ANO_DO_EXERCICIO fora do intervalo entre 1900 e o ano atual... OK!\n\n>>> Para ser válido, o CEP não pode ter valor nulo e deve possuir 8 dígitos. Verificando...\n\nQtd de registros com CEP inválido: 504\nFiltrando registros com CEP inválido... OK!\n\n>>> O IPTU do imóvel não pode ser maior do que o valor do próprio imóvel. Verificando...\n\nQtd de registros com IPTU maior do que o valor do imóvel: 0\nFiltrando registros em que o valor do IPTU é maior do que o valor do imóvel (dados inconsistentes)... OK!\n\n>>> A coluna que tem a informação do ESTADO deve possuir apenas 2 caracteres com letras. Verificando...\n\nQtd de registros com inconsistência na coluna ESTADO: 0\nFiltrando registros com inconsistências no preenchimento da coluna ESTADO... OK!\n\n>>> O valor do IPTU do imóvel deve ser maior do que zero. Verificando...\n\nQtd de registros com valor de IPTU menor ou igual a zero: 9477\nFiltrando registros com valor de IPTU menor ou igual a zero... OK!\n\n---------------------------------------- INGESTÃO DOS DADOS ----------------------------------------\n\n>> Camada: Silver\n>> Caminho da tabela bronze: bronze_layer.iptu_2023\n>>> Executando carga de dados... CARGA FINALIZADA COM SUCESS! \n\n==================================================== PROCESSAMENTO CONCLUÍDO ==================================================\n\n========================================== PROCESSAMENTO DE DADOS [Tabela iptu_2024] ==========================================\n\nAjustando os nomes das colunas... OK!\nRemovendo espaços desnecessários do conteúdo da tabela... OK!\nAjustando os tipos de dados... OK!\nRemovendo dados duplicados... OK!\n\n------------------------------------ ANÁLISE DE REGISTROS NULOS ------------------------------------\n\nAnalisando a quantidade de registros nulos por coluna...\n\n>>> Total de linhas: 500\n\n>>> Como a quantidade de registros nulosé inferior a 1%, vamos remover os registros nulos\nRemovendo registros com valores nulos... OK!\n\n---------------------------------- ANÁLISE DE QUALIDADE DOS DADOS ----------------------------------\n\n>>> A coluna ANO_DO_EXERCICIO não pode estar fora do intervalo entre 1900 e o ano atual. Verificando...\n\nQtd de registros com ANO_DO_EXERCICIO inválido: 0\nFiltrando registros com ANO_DO_EXERCICIO fora do intervalo entre 1900 e o ano atual... OK!\n\n>>> Para ser válido, o CEP não pode ter valor nulo e deve possuir 8 dígitos. Verificando...\n\nQtd de registros com CEP inválido: 1\nFiltrando registros com CEP inválido... OK!\n\n>>> O IPTU do imóvel não pode ser maior do que o valor do próprio imóvel. Verificando...\n\nQtd de registros com IPTU maior do que o valor do imóvel: 0\nFiltrando registros em que o valor do IPTU é maior do que o valor do imóvel (dados inconsistentes)... OK!\n\n>>> A coluna que tem a informação do ESTADO deve possuir apenas 2 caracteres com letras. Verificando...\n\nQtd de registros com inconsistência na coluna ESTADO: 0\nFiltrando registros com inconsistências no preenchimento da coluna ESTADO... OK!\n\n>>> O valor do IPTU do imóvel deve ser maior do que zero. Verificando...\n\nQtd de registros com valor de IPTU menor ou igual a zero: 3\nFiltrando registros com valor de IPTU menor ou igual a zero... OK!\n\n---------------------------------------- INGESTÃO DOS DADOS ----------------------------------------\n\n>> Camada: Silver\n>> Caminho da tabela bronze: bronze_layer.iptu_2024\n>>> Executando carga de dados... CARGA FINALIZADA COM SUCESS! \n\n==================================================== PROCESSAMENTO CONCLUÍDO ==================================================\n\n"
     ]
    },
    {
     "output_type": "stream",
     "name": "stdout",
     "output_type": "stream",
     "text": [
      "////////////////////////////////////////// INGESTÃO DA CAMADA SILVER FINALIZADA //////////////////////////////////////////\n"
     ]
    }
   ],
   "source": [
    "%run /Workspace/Users/douglasfmedeiros@outlook.com/desafio_neurotech/02_ingestao_camada_silver"
   ]
  },
  {
   "cell_type": "markdown",
   "metadata": {
    "application/vnd.databricks.v1+cell": {
     "cellMetadata": {
      "byteLimit": 2048000,
      "rowLimit": 10000
     },
     "inputWidgets": {},
     "nuid": "11999987-ebec-43a7-bd7d-eb852aab87df",
     "showTitle": false,
     "tableResultSettingsMap": {},
     "title": ""
    }
   },
   "source": [
    "Na camada gold faremos a unificação de todas as tabelas em uma única tabela, deixando-a pronta para uso durante as análises. Durante a ingestão dos dados nessa camada, também foi realizado o particionamento considerando as colunas ano do exercício e bairro, visando otimizar a leitura e o processamento dos dados nas análises posteriores."
   ]
  },
  {
   "cell_type": "code",
   "execution_count": 0,
   "metadata": {
    "application/vnd.databricks.v1+cell": {
     "cellMetadata": {
      "byteLimit": 2048000,
      "rowLimit": 10000
     },
     "inputWidgets": {},
     "nuid": "d02e25aa-97cf-4ba3-9a63-6259e0316efd",
     "showTitle": false,
     "tableResultSettingsMap": {},
     "title": ""
    }
   },
   "outputs": [
    {
     "output_type": "stream",
     "name": "stdout",
     "output_type": "stream",
     "text": [
      ">>> Criando schema gold no catálogo de dados, caso ainda não exista... OK!\n"
     ]
    },
    {
     "output_type": "stream",
     "name": "stdout",
     "output_type": "stream",
     "text": [
      "================================== CARGA DE DADOS ==================================\n>> Camada: Gold\n>> Caminho da tabela silver: silver_layer.dados_iptu\n>>> Executando carga de dados, aguarde...\n=========================== CARGA FINALIZADA COM SUCESSO ===========================\n\n"
     ]
    },
    {
     "output_type": "stream",
     "name": "stdout",
     "output_type": "stream",
     "text": [
      "/////////////////////////////////////////// INGESTÃO DA CAMADA GOLD FINALIZADA ///////////////////////////////////////////\n"
     ]
    }
   ],
   "source": [
    "%run /Workspace/Users/douglasfmedeiros@outlook.com/desafio_neurotech/03_ingestao_camada_gold"
   ]
  },
  {
   "cell_type": "markdown",
   "metadata": {
    "application/vnd.databricks.v1+cell": {
     "cellMetadata": {
      "byteLimit": 2048000,
      "rowLimit": 10000
     },
     "inputWidgets": {},
     "nuid": "2c2e8b22-8c21-44d5-afe1-319f2067f616",
     "showTitle": false,
     "tableResultSettingsMap": {},
     "title": ""
    }
   },
   "source": [
    "A análise dos dados não foi realizada neste notebook, ele destina-se apenas para ingestão de dados. A análise foi realizada no notebook **05_analise_dados**."
   ]
  }
 ],
 "metadata": {
  "application/vnd.databricks.v1+notebook": {
   "computePreferences": {
    "hardware": {
     "accelerator": null,
     "gpuPoolId": null,
     "memory": null
    }
   },
   "dashboards": [],
   "environmentMetadata": {
    "base_environment": "",
    "environment_version": "3"
   },
   "inputWidgetPreferences": null,
   "language": "python",
   "notebookMetadata": {
    "pythonIndentUnit": 4
   },
   "notebookName": "04_ingestao_dados",
   "widgets": {}
  },
  "language_info": {
   "name": "python"
  }
 },
 "nbformat": 4,
 "nbformat_minor": 0
}