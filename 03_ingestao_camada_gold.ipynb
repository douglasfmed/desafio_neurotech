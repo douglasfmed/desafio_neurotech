{
 "cells": [
  {
   "cell_type": "code",
   "execution_count": 0,
   "metadata": {
    "application/vnd.databricks.v1+cell": {
     "cellMetadata": {
      "byteLimit": 2048000,
      "rowLimit": 10000
     },
     "inputWidgets": {},
     "nuid": "3e15e356-a73e-428c-8f4e-1a30aa7dc1ee",
     "showTitle": false,
     "tableResultSettingsMap": {},
     "title": ""
    }
   },
   "outputs": [],
   "source": [
    "from pyspark.sql.types import StructType, StructField, StringType, IntegerType, DoubleType, ArrayType, TimestampType\n",
    "from pyspark.sql import Row\n",
    "from pyspark.sql.functions import regexp_replace, col, trim\n",
    "import re\n",
    "from functools import reduce\n",
    "from pyspark.sql import DataFrame"
   ]
  },
  {
   "cell_type": "code",
   "execution_count": 0,
   "metadata": {
    "application/vnd.databricks.v1+cell": {
     "cellMetadata": {
      "byteLimit": 2048000,
      "rowLimit": 10000
     },
     "inputWidgets": {},
     "nuid": "2606786b-4f04-48ba-acfd-5d4273f7a233",
     "showTitle": false,
     "tableResultSettingsMap": {},
     "title": ""
    }
   },
   "outputs": [],
   "source": [
    "print(\">>> Criando schema gold no catálogo de dados, caso ainda não exista...\", end=\" \")\n",
    "spark.sql(f\"CREATE SCHEMA IF NOT EXISTS gold_layer\")\n",
    "print(\"OK!\")"
   ]
  },
  {
   "cell_type": "code",
   "execution_count": 0,
   "metadata": {
    "application/vnd.databricks.v1+cell": {
     "cellMetadata": {
      "byteLimit": 2048000,
      "rowLimit": 10000
     },
     "inputWidgets": {},
     "nuid": "9debcd31-f1f1-4d93-aac6-1547c76e536b",
     "showTitle": true,
     "tableResultSettingsMap": {},
     "title": "Importação das funções da camada gold"
    }
   },
   "outputs": [],
   "source": [
    "%run /Workspace/Users/douglasfmedeiros@outlook.com/desafio_neurotech/functions/gold_functions"
   ]
  },
  {
   "cell_type": "code",
   "execution_count": 0,
   "metadata": {
    "application/vnd.databricks.v1+cell": {
     "cellMetadata": {
      "byteLimit": 2048000,
      "rowLimit": 10000
     },
     "inputWidgets": {},
     "nuid": "d4713866-ef66-44d5-b351-a452384c565b",
     "showTitle": false,
     "tableResultSettingsMap": {},
     "title": ""
    }
   },
   "outputs": [],
   "source": [
    "# Lista todas as tabelas existentes na camada silver\n",
    "tabelas = spark.catalog.listTables(\"silver_layer\");\n",
    "tabelas = [t for t in tabelas if t.name != \"_sqldf\"]"
   ]
  },
  {
   "cell_type": "code",
   "execution_count": 0,
   "metadata": {
    "application/vnd.databricks.v1+cell": {
     "cellMetadata": {
      "byteLimit": 2048000,
      "rowLimit": 10000
     },
     "inputWidgets": {},
     "nuid": "73102aab-cb8d-45d4-984c-c5668a7414b9",
     "showTitle": false,
     "tableResultSettingsMap": {},
     "title": ""
    }
   },
   "outputs": [],
   "source": [
    "for tabela in tabelas:\n",
    "    nome_variavel = tabela.name.replace('iptu', 'dados')\n",
    "    globals()[nome_variavel] = spark.read.table(f'silver_layer.{tabela.name}')\n",
    "\n",
    "dfs = [eval(t.name.replace('iptu', 'dados')) for t in tabelas]\n",
    "nomes = [tabela.name for tabela in tabelas]"
   ]
  },
  {
   "cell_type": "code",
   "execution_count": 0,
   "metadata": {
    "application/vnd.databricks.v1+cell": {
     "cellMetadata": {
      "byteLimit": 2048000,
      "rowLimit": 10000
     },
     "inputWidgets": {},
     "nuid": "1c1cba8d-acf6-45ba-b42b-da9dd912ed52",
     "showTitle": true,
     "tableResultSettingsMap": {},
     "title": "Juntando todas as tabelas"
    }
   },
   "outputs": [],
   "source": [
    "df_final = dfs[0]\n",
    "for df in dfs[1:]:\n",
    "    df_final = df_final.unionByName(df, allowMissingColumns=True)"
   ]
  },
  {
   "cell_type": "code",
   "execution_count": 0,
   "metadata": {
    "application/vnd.databricks.v1+cell": {
     "cellMetadata": {
      "byteLimit": 2048000,
      "rowLimit": 10000
     },
     "inputWidgets": {},
     "nuid": "644f61b8-c358-423c-922d-be1e60ca5943",
     "showTitle": false,
     "tableResultSettingsMap": {},
     "title": ""
    }
   },
   "outputs": [],
   "source": [
    "ingestao_dados(df_final, 'dados_iptu')"
   ]
  },
  {
   "cell_type": "code",
   "execution_count": 0,
   "metadata": {
    "application/vnd.databricks.v1+cell": {
     "cellMetadata": {
      "byteLimit": 2048000,
      "rowLimit": 10000
     },
     "inputWidgets": {},
     "nuid": "6bc93300-2eb5-4df7-9462-04c7266e74bd",
     "showTitle": false,
     "tableResultSettingsMap": {},
     "title": ""
    }
   },
   "outputs": [],
   "source": [
    "print(f'/////////////////////////////////////////// INGESTÃO DA CAMADA GOLD FINALIZADA ///////////////////////////////////////////')"
   ]
  }
 ],
 "metadata": {
  "application/vnd.databricks.v1+notebook": {
   "computePreferences": null,
   "dashboards": [],
   "environmentMetadata": {
    "base_environment": "",
    "environment_version": "3"
   },
   "inputWidgetPreferences": null,
   "language": "python",
   "notebookMetadata": {
    "mostRecentlyExecutedCommandWithImplicitDF": {
     "commandId": 7466145535026787,
     "dataframes": [
      "_sqldf"
     ]
    },
    "pythonIndentUnit": 4
   },
   "notebookName": "03_ingestao_camada_gold",
   "widgets": {}
  },
  "language_info": {
   "name": "python"
  }
 },
 "nbformat": 4,
 "nbformat_minor": 0
}