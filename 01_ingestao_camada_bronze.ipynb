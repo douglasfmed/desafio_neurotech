{
 "cells": [
  {
   "cell_type": "code",
   "execution_count": 0,
   "metadata": {
    "application/vnd.databricks.v1+cell": {
     "cellMetadata": {
      "byteLimit": 2048000,
      "rowLimit": 10000
     },
     "inputWidgets": {},
     "nuid": "4149ecd3-26d7-45af-93e7-d427e2001aa1",
     "showTitle": true,
     "tableResultSettingsMap": {},
     "title": "Importação das bibliotecas necessárias"
    }
   },
   "outputs": [],
   "source": [
    "from pyspark.sql.types import StructType, StructField, StringType, IntegerType, DoubleType, ArrayType, TimestampType\n",
    "from pyspark.sql import Row\n",
    "from pyspark.sql.functions import col\n",
    "import re"
   ]
  },
  {
   "cell_type": "code",
   "execution_count": 0,
   "metadata": {
    "application/vnd.databricks.v1+cell": {
     "cellMetadata": {
      "byteLimit": 2048000,
      "rowLimit": 10000
     },
     "inputWidgets": {},
     "nuid": "2a3beed4-4137-46a6-bacd-5b81d49ef0c1",
     "showTitle": true,
     "tableResultSettingsMap": {},
     "title": "Criação do schema bronze no catálogo de dados"
    }
   },
   "outputs": [],
   "source": [
    "# Criação da camada bronze no catálogo de dados\n",
    "print(\">>> Criando schema bronze no catálogo de dados, caso ainda não exista...\", end=\" \")\n",
    "spark.sql(f\"CREATE SCHEMA IF NOT EXISTS bronze_layer\");\n",
    "print(\"OK!\")"
   ]
  },
  {
   "cell_type": "code",
   "execution_count": 0,
   "metadata": {
    "application/vnd.databricks.v1+cell": {
     "cellMetadata": {
      "byteLimit": 2048000,
      "rowLimit": 10000
     },
     "inputWidgets": {},
     "nuid": "373b5a98-5c59-44da-9a78-366f8f5304a8",
     "showTitle": true,
     "tableResultSettingsMap": {},
     "title": "Importação das funções da camada bronze"
    }
   },
   "outputs": [],
   "source": [
    "%run /Workspace/Users/douglasfmedeiros@outlook.com/desafio_neurotech/functions/bronze_functions"
   ]
  },
  {
   "cell_type": "code",
   "execution_count": 0,
   "metadata": {
    "application/vnd.databricks.v1+cell": {
     "cellMetadata": {
      "byteLimit": 2048000,
      "rowLimit": 10000
     },
     "inputWidgets": {},
     "nuid": "33572627-75f8-4d84-9fd0-57dc7d32074d",
     "showTitle": true,
     "tableResultSettingsMap": {
      "0": {
       "dataGridStateBlob": "{\"version\":1,\"tableState\":{\"columnPinning\":{\"left\":[\"#row_number#\"],\"right\":[]},\"columnSizing\":{},\"columnVisibility\":{}},\"settings\":{\"columns\":{}},\"syncTimestamp\":1758200268521}",
       "filterBlob": null,
       "queryPlanFiltersBlob": null,
       "tableResultIndex": 0
      }
     },
     "title": "Leitura dos arquivos com dados brutos"
    }
   },
   "outputs": [],
   "source": [
    "# Caminho dos dados brutos\n",
    "path_raw = '/Volumes/workspace/default/dados_iptu'\n",
    "\n",
    "# Listando todos os arquivos que estão na pasta com dados brutos\n",
    "files = dbutils.fs.ls(path_raw)\n",
    "\n",
    "# Identificando os arquivos csv que estão na pasta\n",
    "csvs = [f.path.replace('dbfs:', '') for f in files if f.path.endswith(\".csv\")]\n",
    "\n",
    "# Identificando os arquivos json que estão na pasta\n",
    "jsons = [f.path.replace('dbfs:', '') for f in files if f.path.endswith(\".json\")]"
   ]
  },
  {
   "cell_type": "code",
   "execution_count": 0,
   "metadata": {
    "application/vnd.databricks.v1+cell": {
     "cellMetadata": {
      "byteLimit": 2048000,
      "rowLimit": 10000
     },
     "inputWidgets": {},
     "nuid": "c334358b-a2b4-45d2-87af-bfacd75ccb80",
     "showTitle": true,
     "tableResultSettingsMap": {},
     "title": "Ingestão de arquivos CSV"
    }
   },
   "outputs": [],
   "source": [
    "ingestao_dados(csvs, 'csv')"
   ]
  },
  {
   "cell_type": "code",
   "execution_count": 0,
   "metadata": {
    "application/vnd.databricks.v1+cell": {
     "cellMetadata": {
      "byteLimit": 2048000,
      "rowLimit": 10000
     },
     "inputWidgets": {},
     "nuid": "6838e00e-f5b9-4968-b90c-01e2f7295253",
     "showTitle": true,
     "tableResultSettingsMap": {},
     "title": "Ingestão de arquivos JSON"
    }
   },
   "outputs": [],
   "source": [
    "ingestao_dados(jsons, 'json')"
   ]
  },
  {
   "cell_type": "code",
   "execution_count": 0,
   "metadata": {
    "application/vnd.databricks.v1+cell": {
     "cellMetadata": {
      "byteLimit": 2048000,
      "rowLimit": 10000
     },
     "inputWidgets": {},
     "nuid": "733d8a7c-ca2f-4e38-bc5c-b789995bd8a1",
     "showTitle": false,
     "tableResultSettingsMap": {},
     "title": ""
    }
   },
   "outputs": [],
   "source": [
    "print('=======================| INGESTÃO DA CAMADA BRONZE FINALIZADA |=======================')"
   ]
  },
  {
   "cell_type": "code",
   "execution_count": 0,
   "metadata": {
    "application/vnd.databricks.v1+cell": {
     "cellMetadata": {},
     "inputWidgets": {},
     "nuid": "0471e92f-3f3d-4926-8f61-dfe7e6a42d75",
     "showTitle": false,
     "tableResultSettingsMap": {},
     "title": ""
    }
   },
   "outputs": [],
   "source": [
    "print(f'////////////////////////////////////////// INGESTÃO DA CAMADA BRONZE FINALIZADA //////////////////////////////////////////')"
   ]
  }
 ],
 "metadata": {
  "application/vnd.databricks.v1+notebook": {
   "computePreferences": {
    "hardware": {
     "accelerator": null,
     "gpuPoolId": null,
     "memory": null
    }
   },
   "dashboards": [],
   "environmentMetadata": {
    "base_environment": "",
    "environment_version": "3"
   },
   "inputWidgetPreferences": null,
   "language": "python",
   "notebookMetadata": {
    "mostRecentlyExecutedCommandWithImplicitDF": {
     "commandId": 5756345897257757,
     "dataframes": [
      "_sqldf"
     ]
    },
    "pythonIndentUnit": 4
   },
   "notebookName": "01_ingestao_camada_bronze",
   "widgets": {}
  },
  "language_info": {
   "name": "python"
  }
 },
 "nbformat": 4,
 "nbformat_minor": 0
}